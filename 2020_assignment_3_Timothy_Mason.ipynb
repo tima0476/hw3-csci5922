{
  "nbformat": 4,
  "nbformat_minor": 0,
  "metadata": {
    "accelerator": "TPU",
    "colab": {
      "name": "2020_assignment_3_Timothy_Mason.ipynb",
      "provenance": [],
      "collapsed_sections": [],
      "include_colab_link": true
    },
    "kernelspec": {
      "display_name": "Python 3.7.6 64-bit ('csci5922': conda)",
      "language": "python",
      "name": "python37664bitcsci5922condab89fa396f57b458b92561bb4d90e97f0"
    },
    "language_info": {
      "codemirror_mode": {
        "name": "ipython",
        "version": 3
      },
      "file_extension": ".py",
      "mimetype": "text/x-python",
      "name": "python",
      "nbconvert_exporter": "python",
      "pygments_lexer": "ipython3",
      "version": "3.7.6"
    },
    "varInspector": {
      "cols": {
        "lenName": 16,
        "lenType": 16,
        "lenVar": 40
      },
      "kernels_config": {
        "python": {
          "delete_cmd_postfix": "",
          "delete_cmd_prefix": "del ",
          "library": "var_list.py",
          "varRefreshCmd": "print(var_dic_list())"
        },
        "r": {
          "delete_cmd_postfix": ") ",
          "delete_cmd_prefix": "rm(",
          "library": "var_list.r",
          "varRefreshCmd": "cat(var_dic_list()) "
        }
      },
      "types_to_exclude": [
        "module",
        "function",
        "builtin_function_or_method",
        "instance",
        "_Feature"
      ],
      "window_display": false
    }
  },
  "cells": [
    {
      "cell_type": "markdown",
      "metadata": {
        "id": "view-in-github",
        "colab_type": "text"
      },
      "source": [
        "<a href=\"https://colab.research.google.com/github/tima0476/hw3-csci5922/blob/master/2020_assignment_3_Timothy_Mason.ipynb\" target=\"_parent\"><img src=\"https://colab.research.google.com/assets/colab-badge.svg\" alt=\"Open In Colab\"/></a>"
      ]
    },
    {
      "cell_type": "markdown",
      "metadata": {
        "colab_type": "text",
        "id": "Kyfqk1ZwV3we"
      },
      "source": [
        "# Recurrent Neural Network\n",
        "***\n",
        "**Name**: Timothy Mason\n",
        "***"
      ]
    },
    {
      "cell_type": "markdown",
      "metadata": {
        "colab_type": "text",
        "id": "x2HnzA-ZURSu"
      },
      "source": [
        "## Goal\n",
        "The goal of this assignment is to use TensorFlow to build some recurrent neural nets (RNNs) and to understand their limitations through experimentation.\n",
        "\n",
        "## The Task\n",
        "You will implement a recurrent neural net to learn the parity operator. The net will have a single input unit and a single output unit, and a fully-connected layer of H hidden units. The inputs and target outputs are binary. When an input sequence is presented, the output state at the end of the sequence should be a parity bit: output should be 1 if the input has an odd number of '1' values. For example, the sequence 1-0-0-1-0-1 should yield output 1 and the sequence 0-0-0-0-1-1 should yield output 0. Note that a target is given only at the end of each sequence. (Parity is easy to learn if there is a target at each step that indicates parity given the sequence so far.)\n",
        "\n",
        "Parity is a hard problem for neural nets to learn because very similar inputs produce different outputs, and very dissimilar inputs can produce the same output.\n",
        "\n",
        "The aspects of the task we will manipulate are:  H, the number of hidden units, N, the length of the input strings, and the activation function for the hidden units, either tanh or LSTM-style neurons. The output neuron should have a logistic activation function.\n",
        "\n",
        "Tip: get started early.  Depending on your system, these nets can take several minutes to train.  Exploring hyperparameters (such as training rate) will be critical for success.\n"
      ]
    },
    {
      "cell_type": "markdown",
      "metadata": {
        "colab_type": "text",
        "id": "kKEl35tibl8t"
      },
      "source": [
        "### Some Help\n",
        "Below are some helper codes to:\n",
        "- generate input strings and their parity.\n",
        "- provide a callback to trigger early stopping during training\n",
        "- plotting"
      ]
    },
    {
      "cell_type": "code",
      "metadata": {
        "ExecuteTime": {
          "end_time": "2020-03-02T23:12:11.461837Z",
          "start_time": "2020-03-02T23:12:09.176442Z"
        },
        "colab_type": "code",
        "id": "Rsf2q8L6UY8n",
        "colab": {}
      },
      "source": [
        "try:\n",
        "  # %tensorflow_version only exists in Colab.\n",
        "  %tensorflow_version 2.x\n",
        "except Exception:\n",
        "  pass\n",
        "\n",
        "import tensorflow as tf\n",
        "import numpy as np\n",
        "from matplotlib import pyplot\n",
        "\n",
        "def gen_binary_sequences(num, length):\n",
        "  '''\n",
        "  Generate :num: sequences of length :length:.\n",
        "  '''\n",
        "  return(np.random.randint(0, 2, size=(num, length), dtype=np.int32))\n",
        "\n",
        "def calc_parity(seqs):\n",
        "  '''\n",
        "  Calculate sequence parity (1 if odd number of 1s, 0 if even number of 1s)\n",
        "  '''\n",
        "  return(seqs.sum(axis=-1) % 2)\n",
        "\n",
        "\n",
        "class create_accuracy_callback(tf.keras.callbacks.Callback):\n",
        "    '''\n",
        "    Callback function to stop training at 100% accuracy\n",
        "    '''\n",
        "    def on_epoch_end(self, epoch, logs={}):\n",
        "        if(logs.get('accuracy') == 1.0 and logs.get('val_accuracy') == 1.0):\n",
        "            self.model.stop_training = True\n",
        "\n",
        "\n",
        "def plot_accuracies(accuracies,Ns,Hs):\n",
        "  '''\n",
        "  Make a graph of mean % correct (and standard error) on the test set for the different values of H and N.\n",
        "  Input: ndarray of |Hs|x|Ns|x(reps)\n",
        "         actual values of Ns and Hs\n",
        "  '''\n",
        "  lenH,lenN,lenreps = accuracies.shape\n",
        "  assert(lenH == len(Hs))\n",
        "  assert(lenN == len(Ns))\n",
        "  accuracies_mean = accuracies.mean(axis=2)\n",
        "  accuracies_std = accuracies.std(axis=2)\n",
        "  accuracies_stderr = accuracies_std/np.sqrt(lenreps)\n",
        "  # plot\n",
        "  fig = pyplot.figure()\n",
        "  ax = fig.add_subplot(111)\n",
        "  ax.axhline(0.5,linestyle=\"--\",color=\"gray\") # chance baseline\n",
        "  centers = np.arange(lenN)\n",
        "  for Hindex, H in enumerate(Hs):\n",
        "    ax.bar(centers + 0.8/lenH*(Hindex-(lenH-1)/2),\n",
        "           accuracies_mean[Hindex], 0.8/lenH, yerr=accuracies_stderr[Hindex],\n",
        "           alpha=0.5, label=f\"{H} hidden units\")\n",
        "  ax.set_xlabel(\"sequence length\")\n",
        "  pyplot.xticks(centers,Ns)\n",
        "  ax.set_ylabel(\"accuracy\")\n",
        "  pyplot.legend(loc=\"lower left\")"
      ],
      "execution_count": 0,
      "outputs": []
    },
    {
      "cell_type": "markdown",
      "metadata": {
        "colab_type": "text",
        "id": "fyhd-HYBdcF0"
      },
      "source": [
        "## Part 1\n",
        "**Part 1.a**<br>\n",
        "Fill in the code to create a net given H and N using the tanh activation function for the hidden units.  Keras has a number of RNN helper functions, although you can also write your own custom layers.\n",
        "\n",
        "Remember that the net should only take one bit of input at a time from the input sequence, and output one logistic value (between 0 and 1) only after the input sequence is complete."
      ]
    },
    {
      "cell_type": "code",
      "metadata": {
        "ExecuteTime": {
          "end_time": "2020-03-02T23:12:11.469941Z",
          "start_time": "2020-03-02T23:12:11.465046Z"
        },
        "colab_type": "code",
        "id": "AJuSiefzejFZ",
        "colab": {}
      },
      "source": [
        "import tensorflow as tf\n",
        "from tensorflow.keras import layers\n",
        "from datetime import datetime\n",
        "\n",
        "# %load_ext tensorboard\n",
        "# # Clear any logs from previous runs\n",
        "# !rm -rf ./logs/ \n",
        "\n",
        "def build_model(N,H):\n",
        "    '''\n",
        "    Builder for an RNN model. Model inputs are binary sequences of length :N:.\n",
        "\n",
        "    At each sequence position, the input and prior state should be fully connected \n",
        "    to :H: hidden units with tanh activation.\n",
        "\n",
        "    The output of the last state of the RNN should be fully connected to a single\n",
        "    unit with logistic activation, to perform the final classification of the \n",
        "    sequence.\n",
        "    '''\n",
        "\n",
        "    # based on example Keras RNN code from https://www.tensorflow.org/guide/keras/rnn\n",
        "\n",
        "    model = tf.keras.Sequential()\n",
        "    model.add(layers.Embedding(input_dim=N, output_dim=H))\n",
        "    model.add(layers.SimpleRNN(H))   # defaults are good (tanh activation, use a bias vector)\n",
        "    model.add(layers.Dense(1, activation='sigmoid'))\n",
        "\n",
        "    return model"
      ],
      "execution_count": 0,
      "outputs": []
    },
    {
      "cell_type": "markdown",
      "metadata": {
        "colab_type": "text",
        "id": "k0O0WxWqnTD7"
      },
      "source": [
        "**Part 1.b**<br>\n",
        "Then fill in the code to train several such nets.  Each repetition should randomize the initial weights and generate a random training set of 10000 examples of length N as well as a random test set of 10000 examples of length N.  Save 10% of the training as validation, and use at least the provided check_accuracy callback as an early stopping condition.\n",
        "\n",
        "Train nets for H ∈ {5, 25} and for N ∈ {5, 10, 15, 20}.  For each combination of H and N, run 10 replications of your simulation.  You will also need to try to find helpful learning rates; don't be surprised if your training is prone to cycles of stagnation for hundreds of epochs before quickly learning."
      ]
    },
    {
      "cell_type": "code",
      "metadata": {
        "ExecuteTime": {
          "end_time": "2020-03-02T23:12:11.478595Z",
          "start_time": "2020-03-02T23:12:11.473343Z"
        },
        "colab_type": "code",
        "id": "wpOs5URgWsQK",
        "colab": {}
      },
      "source": [
        "BATCH = 1000\n",
        "MAX_EPOCHS = 2000\n",
        "\n",
        "# logdir=\"logs/sequential_fit/\" + datetime.now().strftime(\"%Y%m%d-%H%M%S\")\n",
        "# tensorboard_callback = tf.keras.callbacks.TensorBoard(log_dir=logdir)\n",
        "\n",
        "def train_model(model, x_train, y_train, x_test, y_test):\n",
        "    '''\n",
        "    Compiles and trains the :model:.\n",
        "    '''\n",
        "    # start by compiling the model; accuracy should be a tracked metric\n",
        "    model.compile(loss='binary_crossentropy', metrics=['accuracy'])\n",
        "\n",
        "    # train model\n",
        "    check_accuracy = create_accuracy_callback()\n",
        "    model.fit( x_train,\n",
        "              y_train, \n",
        "              batch_size=BATCH, \n",
        "              epochs=MAX_EPOCHS, \n",
        "              verbose=0, \n",
        "              validation_data=(x_test, y_test),\n",
        "              use_multiprocessing=True,\n",
        "              callbacks=[check_accuracy] )\n",
        "            #   callbacks=[check_accuracy, tensorboard_callback] )"
      ],
      "execution_count": 0,
      "outputs": []
    },
    {
      "cell_type": "code",
      "metadata": {
        "ExecuteTime": {
          "end_time": "2020-03-03T07:12:23.382224Z",
          "start_time": "2020-03-02T23:12:11.480807Z"
        },
        "colab_type": "code",
        "id": "jmLQlzRNfiUJ",
        "outputId": "c98bee36-696f-45f1-eabd-d52de850aa63",
        "colab": {
          "base_uri": "https://localhost:8080/",
          "height": 1000
        }
      },
      "source": [
        "Hs = [5,25]         # H in [5,25]\n",
        "Ns = [5,20]   # N in [5,10,20,40]\n",
        "REPS = 10\n",
        "SAMPLES = 10000\n",
        "\n",
        "test_accs = np.zeros([len(Hs),len(Ns),REPS])\n",
        "for Nindex, N in enumerate(Ns):\n",
        "    for rep in range(REPS):\n",
        "        # (data is reusable across changes to the number of hidden units)\n",
        "        # generate a random training set of 10000 examples of length N\n",
        "        x_train = gen_binary_sequences(SAMPLES, N)\n",
        "        y_train = calc_parity(x_train)\n",
        "\n",
        "        # generate a random test set of 10000 examples of length N\n",
        "        x_test = gen_binary_sequences(SAMPLES, N)\n",
        "        y_test = calc_parity(x_test)\n",
        "\n",
        "        for Hindex, H in enumerate(Hs):\n",
        "            ds = datetime.now().strftime(\"%m-%d-%y %T\")\n",
        "            print(f\"{ds}: N={N:2d} from {Ns}, H={H:2d} from {Hs}, rep {rep+1:2d}/{REPS}, \", end = '')\n",
        "            # build model\n",
        "            model = build_model(N,H)\n",
        "            # train model\n",
        "            train_model(model, x_train, y_train, x_test, y_test)\n",
        "            # test model with newly generated test data (extracting test accuracy as test_acc) \n",
        "            x_test = gen_binary_sequences(SAMPLES, N)\n",
        "            y_test = calc_parity(x_test)\n",
        "            check_accuracy = create_accuracy_callback()\n",
        "            test_acc = model.evaluate( x=x_test, \n",
        "                                    y=y_test, \n",
        "                                    batch_size=BATCH, \n",
        "                                    verbose=0, \n",
        "                                    callbacks=[check_accuracy] )[1]\n",
        "                                    # callbacks=[check_accuracy, tensorboard_callback] )[1]\n",
        "            print(f\"accuracy = {test_acc:.5f}\")\n",
        "            test_accs[Hindex,Nindex,rep] = test_acc"
      ],
      "execution_count": 0,
      "outputs": [
        {
          "output_type": "stream",
          "text": [
            "03-02-20 16:12:11: N= 5 from [5, 20], H= 5 from [5, 25], rep  1/10, accuracy = 0.91110\n",
            "03-02-20 16:17:32: N= 5 from [5, 20], H=25 from [5, 25], rep  1/10, accuracy = 1.00000\n",
            "03-02-20 16:23:49: N= 5 from [5, 20], H= 5 from [5, 25], rep  2/10, accuracy = 0.96810\n",
            "03-02-20 16:29:33: N= 5 from [5, 20], H=25 from [5, 25], rep  2/10, accuracy = 0.46950\n",
            "03-02-20 16:37:49: N= 5 from [5, 20], H= 5 from [5, 25], rep  3/10, accuracy = 1.00000\n",
            "03-02-20 16:41:48: N= 5 from [5, 20], H=25 from [5, 25], rep  3/10, accuracy = 0.40470\n",
            "03-02-20 16:49:44: N= 5 from [5, 20], H= 5 from [5, 25], rep  4/10, accuracy = 0.71620\n",
            "03-02-20 16:55:14: N= 5 from [5, 20], H=25 from [5, 25], rep  4/10, accuracy = 1.00000\n",
            "03-02-20 17:03:07: N= 5 from [5, 20], H= 5 from [5, 25], rep  5/10, accuracy = 0.55560\n",
            "03-02-20 17:50:30: N= 5 from [5, 20], H=25 from [5, 25], rep  5/10, accuracy = 1.00000\n",
            "03-02-20 17:53:47: N= 5 from [5, 20], H= 5 from [5, 25], rep  6/10, accuracy = 0.46510\n",
            "03-02-20 17:58:59: N= 5 from [5, 20], H=25 from [5, 25], rep  6/10, accuracy = 0.47110\n",
            "03-02-20 18:06:32: N= 5 from [5, 20], H= 5 from [5, 25], rep  7/10, accuracy = 0.93360\n",
            "03-02-20 18:11:54: N= 5 from [5, 20], H=25 from [5, 25], rep  7/10, accuracy = 0.50650\n",
            "03-02-20 18:19:50: N= 5 from [5, 20], H= 5 from [5, 25], rep  8/10, accuracy = 1.00000\n",
            "03-02-20 18:21:01: N= 5 from [5, 20], H=25 from [5, 25], rep  8/10, accuracy = 0.56640\n",
            "03-02-20 18:28:58: N= 5 from [5, 20], H= 5 from [5, 25], rep  9/10, accuracy = 0.96920\n",
            "03-02-20 18:34:32: N= 5 from [5, 20], H=25 from [5, 25], rep  9/10, accuracy = 1.00000\n",
            "03-02-20 18:40:19: N= 5 from [5, 20], H= 5 from [5, 25], rep 10/10, accuracy = 0.94030\n",
            "03-02-20 18:45:51: N= 5 from [5, 20], H=25 from [5, 25], rep 10/10, accuracy = 1.00000\n",
            "03-02-20 18:53:23: N=20 from [5, 20], H= 5 from [5, 25], rep  1/10, accuracy = 0.70150\n",
            "03-02-20 19:05:50: N=20 from [5, 20], H=25 from [5, 25], rep  1/10, accuracy = 0.49430\n",
            "03-02-20 19:25:14: N=20 from [5, 20], H= 5 from [5, 25], rep  2/10, accuracy = 0.49870\n",
            "03-02-20 19:36:44: N=20 from [5, 20], H=25 from [5, 25], rep  2/10, accuracy = 0.49830\n",
            "03-02-20 19:58:33: N=20 from [5, 20], H= 5 from [5, 25], rep  3/10, accuracy = 0.49390\n",
            "03-02-20 20:10:10: N=20 from [5, 20], H=25 from [5, 25], rep  3/10, accuracy = 0.49480\n",
            "03-02-20 20:29:44: N=20 from [5, 20], H= 5 from [5, 25], rep  4/10, accuracy = 0.49850\n",
            "03-02-20 20:42:18: N=20 from [5, 20], H=25 from [5, 25], rep  4/10, accuracy = 0.50550\n",
            "03-02-20 21:03:22: N=20 from [5, 20], H= 5 from [5, 25], rep  5/10, accuracy = 0.50160\n",
            "03-02-20 21:15:50: N=20 from [5, 20], H=25 from [5, 25], rep  5/10, accuracy = 0.49920\n",
            "03-02-20 21:36:36: N=20 from [5, 20], H= 5 from [5, 25], rep  6/10, accuracy = 0.49110\n",
            "03-02-20 21:48:56: N=20 from [5, 20], H=25 from [5, 25], rep  6/10, accuracy = 0.50590\n",
            "03-02-20 22:09:43: N=20 from [5, 20], H= 5 from [5, 25], rep  7/10, accuracy = 0.50100\n",
            "03-02-20 22:21:58: N=20 from [5, 20], H=25 from [5, 25], rep  7/10, accuracy = 0.49640\n",
            "03-02-20 22:40:47: N=20 from [5, 20], H= 5 from [5, 25], rep  8/10, accuracy = 0.50300\n",
            "03-02-20 22:52:14: N=20 from [5, 20], H=25 from [5, 25], rep  8/10, accuracy = 0.50560\n",
            "03-02-20 23:11:16: N=20 from [5, 20], H= 5 from [5, 25], rep  9/10, accuracy = 0.49880\n",
            "03-02-20 23:22:46: N=20 from [5, 20], H=25 from [5, 25], rep  9/10, accuracy = 0.50420\n",
            "03-02-20 23:41:48: N=20 from [5, 20], H= 5 from [5, 25], rep 10/10, accuracy = 0.50330\n",
            "03-02-20 23:53:16: N=20 from [5, 20], H=25 from [5, 25], rep 10/10, accuracy = 0.49940\n"
          ],
          "name": "stdout"
        }
      ]
    },
    {
      "cell_type": "markdown",
      "metadata": {
        "colab_type": "text",
        "id": "u4RbGJEbexGV"
      },
      "source": [
        "**Part 1.c**<br>\n",
        "Make the graph of mean % correct (and standard error) on the test set for the different values of H and N."
      ]
    },
    {
      "cell_type": "code",
      "metadata": {
        "ExecuteTime": {
          "start_time": "2020-03-02T23:12:09.175Z"
        },
        "colab_type": "code",
        "id": "_ew6HWSpkpeW",
        "colab": {}
      },
      "source": [
        "plot_accuracies(test_accs,Ns,Hs)\n",
        "# %tensorboard --logdir logs"
      ],
      "execution_count": 0,
      "outputs": []
    },
    {
      "cell_type": "markdown",
      "metadata": {
        "colab_type": "text",
        "id": "Ku9WKNAafXnj"
      },
      "source": [
        "## Part 2\n",
        "Repeat the experiments of Part 1, but use LSTM neurons instead of tanh neurons in the recurrent layer.  Comment on your experiences."
      ]
    },
    {
      "cell_type": "markdown",
      "metadata": {
        "colab_type": "text",
        "id": "GU7uynCutpJ7"
      },
      "source": [
        ""
      ]
    },
    {
      "cell_type": "code",
      "metadata": {
        "ExecuteTime": {
          "start_time": "2020-03-02T23:12:09.177Z"
        },
        "colab_type": "code",
        "id": "K1NhUtyLry9v",
        "colab": {}
      },
      "source": [
        "def build_model_lstm(N,H):\n",
        "    '''\n",
        "    Builder for an LST model. Model inputs are binary sequences of length :N:.\n",
        "\n",
        "    '''\n",
        "\n",
        "    # based on example Keras RNN code from https://www.tensorflow.org/guide/keras/rnn\n",
        "\n",
        "    model = tf.keras.Sequential()\n",
        "    model.add(layers.Embedding(input_dim=N, output_dim=H))\n",
        "    model.add(layers.LSTM(H))   \n",
        "    model.add(layers.Dense(1, activation='sigmoid'))\n",
        "\n",
        "    return model"
      ],
      "execution_count": 0,
      "outputs": []
    },
    {
      "cell_type": "code",
      "metadata": {
        "ExecuteTime": {
          "start_time": "2020-03-02T23:12:09.178Z"
        },
        "colab_type": "code",
        "id": "B47-LQqctBVA",
        "colab": {}
      },
      "source": [
        "test_accs_lstm = np.zeros([len(Hs),len(Ns),REPS])\n",
        "for Nindex, N in enumerate(Ns):\n",
        "    for rep in range(REPS):\n",
        "        # (data is reusable across changes to the number of hidden units)\n",
        "        # generate a random training set of 10000 examples of length N\n",
        "        x_train = gen_binary_sequences(SAMPLES, N)\n",
        "        y_train = calc_parity(x_train)\n",
        "\n",
        "        # generate a random test set of 10000 examples of length N\n",
        "        x_test = gen_binary_sequences(SAMPLES, N)\n",
        "        y_test = calc_parity(x_test)\n",
        "\n",
        "        for Hindex, H in enumerate(Hs):\n",
        "            ds = datetime.now().strftime(\"%m-%d-%y %T\")\n",
        "            print(f\"{ds}: N={N:2d} from {Ns}, H={H:2d} from {Hs}, rep {rep+1:2d}/{REPS}, \", end = '')\n",
        "            # build model\n",
        "            model = build_model_lstm(N,H)\n",
        "            # train model\n",
        "            train_model(model, x_train, y_train, x_test, y_test)\n",
        "            # test model with newly generated test data (extracting test accuracy as test_acc) \n",
        "            x_test = gen_binary_sequences(SAMPLES, N)\n",
        "            y_test = calc_parity(x_test)\n",
        "            check_accuracy = create_accuracy_callback()\n",
        "            test_acc = model.evaluate( x=x_test, \n",
        "                                    y=y_test, \n",
        "                                    batch_size=BATCH, \n",
        "                                    verbose=1, \n",
        "                                    callbacks=[check_accuracy] )[1]\n",
        "                                    # callbacks=[check_accuracy, tensorboard_callback] )[1]\n",
        "            print(f\"accuracy = {test_acc:.5f}\")\n",
        "            test_accs_lstm[Hindex,Nindex,rep] = test_acc"
      ],
      "execution_count": 0,
      "outputs": []
    },
    {
      "cell_type": "code",
      "metadata": {
        "ExecuteTime": {
          "start_time": "2020-03-02T23:12:09.179Z"
        },
        "colab_type": "code",
        "id": "x6OreE18tSzt",
        "colab": {}
      },
      "source": [
        "plot_accuracies(test_accs_lstm,Ns,Hs)\n"
      ],
      "execution_count": 0,
      "outputs": []
    }
  ]
}