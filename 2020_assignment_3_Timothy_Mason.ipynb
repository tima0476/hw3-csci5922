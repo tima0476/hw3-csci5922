{
  "nbformat": 4,
  "nbformat_minor": 0,
  "metadata": {
    "accelerator": "TPU",
    "colab": {
      "name": "2020_assignment_3_Timothy_Mason.ipynb",
      "provenance": [],
      "collapsed_sections": [],
      "include_colab_link": true
    },
    "kernelspec": {
      "name": "python3",
      "display_name": "Python 3"
    },
    "varInspector": {
      "cols": {
        "lenName": 16,
        "lenType": 16,
        "lenVar": 40
      },
      "kernels_config": {
        "python": {
          "delete_cmd_postfix": "",
          "delete_cmd_prefix": "del ",
          "library": "var_list.py",
          "varRefreshCmd": "print(var_dic_list())"
        },
        "r": {
          "delete_cmd_postfix": ") ",
          "delete_cmd_prefix": "rm(",
          "library": "var_list.r",
          "varRefreshCmd": "cat(var_dic_list()) "
        }
      },
      "types_to_exclude": [
        "module",
        "function",
        "builtin_function_or_method",
        "instance",
        "_Feature"
      ],
      "window_display": false
    }
  },
  "cells": [
    {
      "cell_type": "markdown",
      "metadata": {
        "id": "view-in-github",
        "colab_type": "text"
      },
      "source": [
        "<a href=\"https://colab.research.google.com/github/tima0476/hw3-csci5922/blob/master/2020_assignment_3_Timothy_Mason.ipynb\" target=\"_parent\"><img src=\"https://colab.research.google.com/assets/colab-badge.svg\" alt=\"Open In Colab\"/></a>"
      ]
    },
    {
      "cell_type": "markdown",
      "metadata": {
        "colab_type": "text",
        "id": "Kyfqk1ZwV3we"
      },
      "source": [
        "# Recurrent Neural Network\n",
        "***\n",
        "**Name**: Timothy Mason\n",
        "***"
      ]
    },
    {
      "cell_type": "markdown",
      "metadata": {
        "colab_type": "text",
        "id": "x2HnzA-ZURSu"
      },
      "source": [
        "## Goal\n",
        "The goal of this assignment is to use TensorFlow to build some recurrent neural nets (RNNs) and to understand their limitations through experimentation.\n",
        "\n",
        "## The Task\n",
        "You will implement a recurrent neural net to learn the parity operator. The net will have a single input unit and a single output unit, and a fully-connected layer of H hidden units. The inputs and target outputs are binary. When an input sequence is presented, the output state at the end of the sequence should be a parity bit: output should be 1 if the input has an odd number of '1' values. For example, the sequence 1-0-0-1-0-1 should yield output 1 and the sequence 0-0-0-0-1-1 should yield output 0. Note that a target is given only at the end of each sequence. (Parity is easy to learn if there is a target at each step that indicates parity given the sequence so far.)\n",
        "\n",
        "Parity is a hard problem for neural nets to learn because very similar inputs produce different outputs, and very dissimilar inputs can produce the same output.\n",
        "\n",
        "The aspects of the task we will manipulate are:  H, the number of hidden units, N, the length of the input strings, and the activation function for the hidden units, either tanh or LSTM-style neurons. The output neuron should have a logistic activation function.\n",
        "\n",
        "Tip: get started early.  Depending on your system, these nets can take several minutes to train.  Exploring hyperparameters (such as training rate) will be critical for success.\n"
      ]
    },
    {
      "cell_type": "markdown",
      "metadata": {
        "colab_type": "text",
        "id": "kKEl35tibl8t"
      },
      "source": [
        "### Some Help\n",
        "Below are some helper codes to:\n",
        "- generate input strings and their parity.\n",
        "- provide a callback to trigger early stopping during training\n",
        "- plotting"
      ]
    },
    {
      "cell_type": "code",
      "metadata": {
        "ExecuteTime": {
          "end_time": "2020-03-02T23:12:11.461837Z",
          "start_time": "2020-03-02T23:12:09.176442Z"
        },
        "colab_type": "code",
        "id": "Rsf2q8L6UY8n",
        "outputId": "57ad6ee0-e2e9-429d-c1cb-03df98fc5c5d",
        "colab": {
          "base_uri": "https://localhost:8080/",
          "height": 34
        }
      },
      "source": [
        "try:\n",
        "  # %tensorflow_version only exists in Colab.\n",
        "  %tensorflow_version 2.x\n",
        "except Exception:\n",
        "  pass\n",
        "\n",
        "import tensorflow as tf\n",
        "import numpy as np\n",
        "from matplotlib import pyplot\n",
        "\n",
        "def gen_binary_sequences(num, length):\n",
        "  '''\n",
        "  Generate :num: sequences of length :length:.\n",
        "  '''\n",
        "  return(np.random.randint(0, 2, size=(num, length), dtype=np.int32))\n",
        "\n",
        "def calc_parity(seqs):\n",
        "  '''\n",
        "  Calculate sequence parity (1 if odd number of 1s, 0 if even number of 1s)\n",
        "  '''\n",
        "  return(seqs.sum(axis=-1) % 2)\n",
        "\n",
        "\n",
        "class create_accuracy_callback(tf.keras.callbacks.Callback):\n",
        "    '''\n",
        "    Callback function to stop training at 100% accuracy\n",
        "    '''\n",
        "    def on_epoch_end(self, epoch, logs={}):\n",
        "        if(logs.get('accuracy') == 1.0 and logs.get('val_accuracy') == 1.0):\n",
        "            self.model.stop_training = True\n",
        "\n",
        "\n",
        "def plot_accuracies(accuracies,Ns,Hs):\n",
        "  '''\n",
        "  Make a graph of mean % correct (and standard error) on the test set for the different values of H and N.\n",
        "  Input: ndarray of |Hs|x|Ns|x(reps)\n",
        "         actual values of Ns and Hs\n",
        "  '''\n",
        "  lenH,lenN,lenreps = accuracies.shape\n",
        "  assert(lenH == len(Hs))\n",
        "  assert(lenN == len(Ns))\n",
        "  accuracies_mean = accuracies.mean(axis=2)\n",
        "  accuracies_std = accuracies.std(axis=2)\n",
        "  accuracies_stderr = accuracies_std/np.sqrt(lenreps)\n",
        "  # plot\n",
        "  fig = pyplot.figure()\n",
        "  ax = fig.add_subplot(111)\n",
        "  ax.axhline(0.5,linestyle=\"--\",color=\"gray\") # chance baseline\n",
        "  centers = np.arange(lenN)\n",
        "  for Hindex, H in enumerate(Hs):\n",
        "    ax.bar(centers + 0.8/lenH*(Hindex-(lenH-1)/2),\n",
        "           accuracies_mean[Hindex], 0.8/lenH, yerr=accuracies_stderr[Hindex],\n",
        "           alpha=0.5, label=f\"{H} hidden units\")\n",
        "  ax.set_xlabel(\"sequence length\")\n",
        "  pyplot.xticks(centers,Ns)\n",
        "  ax.set_ylabel(\"accuracy\")\n",
        "  pyplot.legend(loc=\"lower left\")"
      ],
      "execution_count": 0,
      "outputs": [
        {
          "output_type": "stream",
          "text": [
            "TensorFlow 2.x selected.\n"
          ],
          "name": "stdout"
        }
      ]
    },
    {
      "cell_type": "markdown",
      "metadata": {
        "colab_type": "text",
        "id": "fyhd-HYBdcF0"
      },
      "source": [
        "## Part 1\n",
        "**Part 1.a**<br>\n",
        "Fill in the code to create a net given H and N using the tanh activation function for the hidden units.  Keras has a number of RNN helper functions, although you can also write your own custom layers.\n",
        "\n",
        "Remember that the net should only take one bit of input at a time from the input sequence, and output one logistic value (between 0 and 1) only after the input sequence is complete."
      ]
    },
    {
      "cell_type": "code",
      "metadata": {
        "ExecuteTime": {
          "end_time": "2020-03-02T23:12:11.469941Z",
          "start_time": "2020-03-02T23:12:11.465046Z"
        },
        "colab_type": "code",
        "id": "AJuSiefzejFZ",
        "colab": {}
      },
      "source": [
        "import tensorflow as tf\n",
        "from tensorflow.keras import layers\n",
        "from datetime import datetime\n",
        "\n",
        "# %load_ext tensorboard\n",
        "# # Clear any logs from previous runs\n",
        "# !rm -rf ./logs/ \n",
        "\n",
        "def build_model(N,H):\n",
        "    '''\n",
        "    Builder for an RNN model. Model inputs are binary sequences of length :N:.\n",
        "\n",
        "    At each sequence position, the input and prior state should be fully connected \n",
        "    to :H: hidden units with tanh activation.\n",
        "\n",
        "    The output of the last state of the RNN should be fully connected to a single\n",
        "    unit with logistic activation, to perform the final classification of the \n",
        "    sequence.\n",
        "    '''\n",
        "\n",
        "    # based on example Keras RNN code from https://www.tensorflow.org/guide/keras/rnn\n",
        "\n",
        "    model = tf.keras.Sequential()\n",
        "    model.add(layers.Embedding(input_dim=N, output_dim=H))\n",
        "    model.add(layers.SimpleRNN(H))   # defaults are good (tanh activation, use a bias vector)\n",
        "    model.add(layers.Dense(1, activation='sigmoid'))\n",
        "\n",
        "    return model"
      ],
      "execution_count": 0,
      "outputs": []
    },
    {
      "cell_type": "markdown",
      "metadata": {
        "colab_type": "text",
        "id": "k0O0WxWqnTD7"
      },
      "source": [
        "**Part 1.b**<br>\n",
        "Then fill in the code to train several such nets.  Each repetition should randomize the initial weights and generate a random training set of 10000 examples of length N as well as a random test set of 10000 examples of length N.  Save 10% of the training as validation, and use at least the provided check_accuracy callback as an early stopping condition.\n",
        "\n",
        "Train nets for H ∈ {5, 25} and for N ∈ {5, 10, 15, 20}.  For each combination of H and N, run 10 replications of your simulation.  You will also need to try to find helpful learning rates; don't be surprised if your training is prone to cycles of stagnation for hundreds of epochs before quickly learning."
      ]
    },
    {
      "cell_type": "code",
      "metadata": {
        "ExecuteTime": {
          "end_time": "2020-03-02T23:12:11.478595Z",
          "start_time": "2020-03-02T23:12:11.473343Z"
        },
        "colab_type": "code",
        "id": "wpOs5URgWsQK",
        "colab": {}
      },
      "source": [
        "BATCH = 1000\n",
        "MAX_EPOCHS = 2000\n",
        "\n",
        "# logdir=\"logs/sequential_fit/\" + datetime.now().strftime(\"%Y%m%d-%H%M%S\")\n",
        "# tensorboard_callback = tf.keras.callbacks.TensorBoard(log_dir=logdir)\n",
        "\n",
        "def train_model(model, x_train, y_train, x_test, y_test):\n",
        "    '''\n",
        "    Compiles and trains the :model:.\n",
        "    '''\n",
        "    # start by compiling the model; accuracy should be a tracked metric\n",
        "    model.compile(loss='binary_crossentropy', metrics=['accuracy'])\n",
        "\n",
        "    # train model\n",
        "    check_accuracy = create_accuracy_callback()\n",
        "    model.fit( x_train,\n",
        "              y_train, \n",
        "              batch_size=BATCH, \n",
        "              epochs=MAX_EPOCHS, \n",
        "              verbose=0, \n",
        "              validation_data=(x_test, y_test),\n",
        "              use_multiprocessing=True,\n",
        "              callbacks=[check_accuracy] )\n",
        "            #   callbacks=[check_accuracy, tensorboard_callback] )"
      ],
      "execution_count": 0,
      "outputs": []
    },
    {
      "cell_type": "code",
      "metadata": {
        "ExecuteTime": {
          "end_time": "2020-03-03T07:12:23.382224Z",
          "start_time": "2020-03-02T23:12:11.480807Z"
        },
        "colab_type": "code",
        "id": "jmLQlzRNfiUJ",
        "outputId": "26443469-83e6-484f-f23f-e3c859c9157b",
        "colab": {
          "base_uri": "https://localhost:8080/",
          "height": 697
        }
      },
      "source": [
        "Hs = [5,25]         # H in [5,25]\n",
        "Ns = [5,20]   # N in [5,10,20,40]\n",
        "REPS = 10\n",
        "SAMPLES = 10000\n",
        "\n",
        "test_accs = np.zeros([len(Hs),len(Ns),REPS])\n",
        "for Nindex, N in enumerate(Ns):\n",
        "    for rep in range(REPS):\n",
        "        # (data is reusable across changes to the number of hidden units)\n",
        "        # generate a random training set of 10000 examples of length N\n",
        "        x_train = gen_binary_sequences(SAMPLES, N)\n",
        "        y_train = calc_parity(x_train)\n",
        "\n",
        "        # generate a random test set of 10000 examples of length N\n",
        "        x_test = gen_binary_sequences(SAMPLES, N)\n",
        "        y_test = calc_parity(x_test)\n",
        "\n",
        "        for Hindex, H in enumerate(Hs):\n",
        "            ds = datetime.now().strftime(\"%m-%d-%y %T\")\n",
        "            print(f\"{ds}: N={N:2d} from {Ns}, H={H:2d} from {Hs}, rep {rep+1:2d}/{REPS}, \", end = '')\n",
        "            # build model\n",
        "            model = build_model(N,H)\n",
        "            # train model\n",
        "            train_model(model, x_train, y_train, x_test, y_test)\n",
        "            # test model with newly generated test data (extracting test accuracy as test_acc) \n",
        "            x_test = gen_binary_sequences(SAMPLES, N)\n",
        "            y_test = calc_parity(x_test)\n",
        "            check_accuracy = create_accuracy_callback()\n",
        "            test_acc = model.evaluate( x=x_test, \n",
        "                                    y=y_test, \n",
        "                                    batch_size=BATCH, \n",
        "                                    verbose=0, \n",
        "                                    callbacks=[check_accuracy] )[1]\n",
        "                                    # callbacks=[check_accuracy, tensorboard_callback] )[1]\n",
        "            print(f\"accuracy = {test_acc:.5f}\")\n",
        "            test_accs[Hindex,Nindex,rep] = test_acc"
      ],
      "execution_count": 0,
      "outputs": [
        {
          "output_type": "stream",
          "text": [
            "03-03-20 15:11:21: N= 5 from [5, 20], H= 5 from [5, 25], rep  1/10, accuracy = 0.94080\n",
            "03-03-20 15:13:35: N= 5 from [5, 20], H=25 from [5, 25], rep  1/10, accuracy = 1.00000\n",
            "03-03-20 15:15:56: N= 5 from [5, 20], H= 5 from [5, 25], rep  2/10, accuracy = 0.53790\n",
            "03-03-20 15:17:59: N= 5 from [5, 20], H=25 from [5, 25], rep  2/10, accuracy = 0.53960\n",
            "03-03-20 15:21:43: N= 5 from [5, 20], H= 5 from [5, 25], rep  3/10, accuracy = 0.93590\n",
            "03-03-20 15:23:52: N= 5 from [5, 20], H=25 from [5, 25], rep  3/10, accuracy = 0.54030\n",
            "03-03-20 15:27:34: N= 5 from [5, 20], H= 5 from [5, 25], rep  4/10, accuracy = 0.94060\n",
            "03-03-20 15:29:36: N= 5 from [5, 20], H=25 from [5, 25], rep  4/10, accuracy = 0.49850\n",
            "03-03-20 15:33:18: N= 5 from [5, 20], H= 5 from [5, 25], rep  5/10, accuracy = 0.93610\n",
            "03-03-20 15:35:26: N= 5 from [5, 20], H=25 from [5, 25], rep  5/10, accuracy = 1.00000\n",
            "03-03-20 15:38:04: N= 5 from [5, 20], H= 5 from [5, 25], rep  6/10, accuracy = 0.44070\n",
            "03-03-20 15:40:13: N= 5 from [5, 20], H=25 from [5, 25], rep  6/10, accuracy = 0.50280\n",
            "03-03-20 15:44:16: N= 5 from [5, 20], H= 5 from [5, 25], rep  7/10, accuracy = 0.49750\n",
            "03-03-20 15:46:30: N= 5 from [5, 20], H=25 from [5, 25], rep  7/10, accuracy = 0.46820\n",
            "03-03-20 15:50:24: N= 5 from [5, 20], H= 5 from [5, 25], rep  8/10, accuracy = 0.47830\n",
            "03-03-20 15:52:31: N= 5 from [5, 20], H=25 from [5, 25], rep  8/10, accuracy = 0.46890\n",
            "03-03-20 15:56:20: N= 5 from [5, 20], H= 5 from [5, 25], rep  9/10, accuracy = 1.00000\n",
            "03-03-20 15:57:44: N= 5 from [5, 20], H=25 from [5, 25], rep  9/10, accuracy = 0.46550\n",
            "03-03-20 16:01:25: N= 5 from [5, 20], H= 5 from [5, 25], rep 10/10, accuracy = 1.00000\n",
            "03-03-20 16:02:20: N= 5 from [5, 20], H=25 from [5, 25], rep 10/10, accuracy = 0.49510\n",
            "03-03-20 16:06:09: N=20 from [5, 20], H= 5 from [5, 25], rep  1/10, accuracy = 0.49980\n",
            "03-03-20 16:10:22: N=20 from [5, 20], H=25 from [5, 25], rep  1/10, accuracy = 0.49320\n",
            "03-03-20 16:19:58: N=20 from [5, 20], H= 5 from [5, 25], rep  2/10, accuracy = 0.65880\n",
            "03-03-20 16:24:20: N=20 from [5, 20], H=25 from [5, 25], rep  2/10, accuracy = 0.50710\n",
            "03-03-20 16:33:36: N=20 from [5, 20], H= 5 from [5, 25], rep  3/10, accuracy = 0.49260\n",
            "03-03-20 16:37:52: N=20 from [5, 20], H=25 from [5, 25], rep  3/10, accuracy = 0.49870\n",
            "03-03-20 16:47:07: N=20 from [5, 20], H= 5 from [5, 25], rep  4/10, accuracy = 0.49180\n",
            "03-03-20 16:51:13: N=20 from [5, 20], H=25 from [5, 25], rep  4/10, accuracy = 0.49490\n",
            "03-03-20 17:00:03: N=20 from [5, 20], H= 5 from [5, 25], rep  5/10, accuracy = 0.51000\n",
            "03-03-20 17:04:14: N=20 from [5, 20], H=25 from [5, 25], rep  5/10, accuracy = 0.50420\n",
            "03-03-20 17:12:57: N=20 from [5, 20], H= 5 from [5, 25], rep  6/10, accuracy = 0.49520\n",
            "03-03-20 17:17:00: N=20 from [5, 20], H=25 from [5, 25], rep  6/10, accuracy = 0.49130\n",
            "03-03-20 17:25:32: N=20 from [5, 20], H= 5 from [5, 25], rep  7/10, accuracy = 0.49350\n",
            "03-03-20 17:29:40: N=20 from [5, 20], H=25 from [5, 25], rep  7/10, accuracy = 0.50300\n",
            "03-03-20 17:38:29: N=20 from [5, 20], H= 5 from [5, 25], rep  8/10, accuracy = 0.49830\n",
            "03-03-20 17:42:53: N=20 from [5, 20], H=25 from [5, 25], rep  8/10, accuracy = 0.50060\n",
            "03-03-20 17:51:08: N=20 from [5, 20], H= 5 from [5, 25], rep  9/10, accuracy = 0.76160\n",
            "03-03-20 17:54:55: N=20 from [5, 20], H=25 from [5, 25], rep  9/10, accuracy = 0.50790\n",
            "03-03-20 18:03:00: N=20 from [5, 20], H= 5 from [5, 25], rep 10/10, accuracy = 0.50470\n",
            "03-03-20 18:06:49: N=20 from [5, 20], H=25 from [5, 25], rep 10/10, accuracy = 0.49920\n"
          ],
          "name": "stdout"
        }
      ]
    },
    {
      "cell_type": "markdown",
      "metadata": {
        "colab_type": "text",
        "id": "u4RbGJEbexGV"
      },
      "source": [
        "**Part 1.c**<br>\n",
        "Make the graph of mean % correct (and standard error) on the test set for the different values of H and N."
      ]
    },
    {
      "cell_type": "code",
      "metadata": {
        "ExecuteTime": {
          "start_time": "2020-03-02T23:12:09.175Z"
        },
        "colab_type": "code",
        "id": "_ew6HWSpkpeW",
        "outputId": "d43f0a7d-d6da-4a84-edbf-396357974b14",
        "colab": {
          "base_uri": "https://localhost:8080/",
          "height": 279
        }
      },
      "source": [
        "plot_accuracies(test_accs,Ns,Hs)\n",
        "# %tensorboard --logdir logs"
      ],
      "execution_count": 0,
      "outputs": [
        {
          "output_type": "display_data",
          "data": {
            "image/png": "[encoded data removed]",
            "text/plain": [
              "<Figure size 432x288 with 1 Axes>"
            ]
          },
          "metadata": {
            "tags": []
          }
        }
      ]
    },
    {
      "cell_type": "markdown",
      "metadata": {
        "colab_type": "text",
        "id": "Ku9WKNAafXnj"
      },
      "source": [
        "## Part 2\n",
        "Repeat the experiments of Part 1, but use LSTM neurons instead of tanh neurons in the recurrent layer.  Comment on your experiences."
      ]
    },
    {
      "cell_type": "markdown",
      "metadata": {
        "colab_type": "text",
        "id": "GU7uynCutpJ7"
      },
      "source": [
        ""
      ]
    },
    {
      "cell_type": "code",
      "metadata": {
        "ExecuteTime": {
          "start_time": "2020-03-02T23:12:09.177Z"
        },
        "colab_type": "code",
        "id": "K1NhUtyLry9v",
        "colab": {}
      },
      "source": [
        "def build_model_lstm(N,H):\n",
        "    '''\n",
        "    Builder for an LST model. Model inputs are binary sequences of length :N:.\n",
        "\n",
        "    '''\n",
        "\n",
        "    # based on example Keras RNN code from https://www.tensorflow.org/guide/keras/rnn\n",
        "\n",
        "    model = tf.keras.Sequential()\n",
        "    model.add(layers.Embedding(input_dim=N, output_dim=H))\n",
        "    model.add(layers.LSTM(H))   \n",
        "    model.add(layers.Dense(1, activation='sigmoid'))\n",
        "\n",
        "    return model"
      ],
      "execution_count": 0,
      "outputs": []
    },
    {
      "cell_type": "code",
      "metadata": {
        "ExecuteTime": {
          "start_time": "2020-03-02T23:12:09.178Z"
        },
        "colab_type": "code",
        "id": "B47-LQqctBVA",
        "outputId": "17fc9e08-d7b9-4c1f-9adc-612127d502de",
        "colab": {
          "base_uri": "https://localhost:8080/",
          "height": 697
        }
      },
      "source": [
        "test_accs_lstm = np.zeros([len(Hs),len(Ns),REPS])\n",
        "for Nindex, N in enumerate(Ns):\n",
        "    for rep in range(REPS):\n",
        "        # (data is reusable across changes to the number of hidden units)\n",
        "        # generate a random training set of 10000 examples of length N\n",
        "        x_train = gen_binary_sequences(SAMPLES, N)\n",
        "        y_train = calc_parity(x_train)\n",
        "\n",
        "        # generate a random test set of 10000 examples of length N\n",
        "        x_test = gen_binary_sequences(SAMPLES, N)\n",
        "        y_test = calc_parity(x_test)\n",
        "\n",
        "        for Hindex, H in enumerate(Hs):\n",
        "            ds = datetime.now().strftime(\"%m-%d-%y %T\")\n",
        "            print(f\"{ds}: N={N:2d} from {Ns}, H={H:2d} from {Hs}, rep {rep+1:2d}/{REPS}, \", end = '')\n",
        "            # build model\n",
        "            model = build_model_lstm(N,H)\n",
        "            # train model\n",
        "            train_model(model, x_train, y_train, x_test, y_test)\n",
        "            # test model with newly generated test data (extracting test accuracy as test_acc) \n",
        "            x_test = gen_binary_sequences(SAMPLES, N)\n",
        "            y_test = calc_parity(x_test)\n",
        "            check_accuracy = create_accuracy_callback()\n",
        "            test_acc = model.evaluate( x=x_test, \n",
        "                                    y=y_test, \n",
        "                                    batch_size=BATCH, \n",
        "                                    verbose=0, \n",
        "                                    callbacks=[check_accuracy] )[1]\n",
        "                                    # callbacks=[check_accuracy, tensorboard_callback] )[1]\n",
        "            print(f\"accuracy = {test_acc:.5f}\")\n",
        "            test_accs_lstm[Hindex,Nindex,rep] = test_acc"
      ],
      "execution_count": 0,
      "outputs": [
        {
          "output_type": "stream",
          "text": [
            "03-03-20 18:17:24: N= 5 from [5, 20], H= 5 from [5, 25], rep  1/10, accuracy = 1.00000\n",
            "03-03-20 18:17:59: N= 5 from [5, 20], H=25 from [5, 25], rep  1/10, accuracy = 1.00000\n",
            "03-03-20 18:18:45: N= 5 from [5, 20], H= 5 from [5, 25], rep  2/10, accuracy = 1.00000\n",
            "03-03-20 18:19:38: N= 5 from [5, 20], H=25 from [5, 25], rep  2/10, accuracy = 1.00000\n",
            "03-03-20 18:20:36: N= 5 from [5, 20], H= 5 from [5, 25], rep  3/10, accuracy = 1.00000\n",
            "03-03-20 18:21:03: N= 5 from [5, 20], H=25 from [5, 25], rep  3/10, accuracy = 1.00000\n",
            "03-03-20 18:21:30: N= 5 from [5, 20], H= 5 from [5, 25], rep  4/10, accuracy = 1.00000\n",
            "03-03-20 18:22:19: N= 5 from [5, 20], H=25 from [5, 25], rep  4/10, accuracy = 1.00000\n",
            "03-03-20 18:23:06: N= 5 from [5, 20], H= 5 from [5, 25], rep  5/10, accuracy = 1.00000\n",
            "03-03-20 18:23:50: N= 5 from [5, 20], H=25 from [5, 25], rep  5/10, accuracy = 1.00000\n",
            "03-03-20 18:24:40: N= 5 from [5, 20], H= 5 from [5, 25], rep  6/10, accuracy = 1.00000\n",
            "03-03-20 18:25:21: N= 5 from [5, 20], H=25 from [5, 25], rep  6/10, accuracy = 1.00000\n",
            "03-03-20 18:26:27: N= 5 from [5, 20], H= 5 from [5, 25], rep  7/10, accuracy = 1.00000\n",
            "03-03-20 18:27:44: N= 5 from [5, 20], H=25 from [5, 25], rep  7/10, accuracy = 1.00000\n",
            "03-03-20 18:29:45: N= 5 from [5, 20], H= 5 from [5, 25], rep  8/10, accuracy = 1.00000\n",
            "03-03-20 18:30:29: N= 5 from [5, 20], H=25 from [5, 25], rep  8/10, accuracy = 1.00000\n",
            "03-03-20 18:31:34: N= 5 from [5, 20], H= 5 from [5, 25], rep  9/10, accuracy = 1.00000\n",
            "03-03-20 18:32:12: N= 5 from [5, 20], H=25 from [5, 25], rep  9/10, accuracy = 1.00000\n",
            "03-03-20 18:32:43: N= 5 from [5, 20], H= 5 from [5, 25], rep 10/10, accuracy = 1.00000\n",
            "03-03-20 18:34:01: N= 5 from [5, 20], H=25 from [5, 25], rep 10/10, accuracy = 1.00000\n",
            "03-03-20 18:35:04: N=20 from [5, 20], H= 5 from [5, 25], rep  1/10, accuracy = 0.99160\n",
            "03-03-20 18:42:50: N=20 from [5, 20], H=25 from [5, 25], rep  1/10, accuracy = 1.00000\n",
            "03-03-20 18:52:46: N=20 from [5, 20], H= 5 from [5, 25], rep  2/10, accuracy = 0.57230\n",
            "03-03-20 19:00:26: N=20 from [5, 20], H=25 from [5, 25], rep  2/10, accuracy = 0.99920\n",
            "03-03-20 19:27:09: N=20 from [5, 20], H= 5 from [5, 25], rep  3/10, accuracy = 0.98480\n",
            "03-03-20 19:34:41: N=20 from [5, 20], H=25 from [5, 25], rep  3/10, accuracy = 0.99930\n",
            "03-03-20 20:01:14: N=20 from [5, 20], H= 5 from [5, 25], rep  4/10, accuracy = 0.92370\n",
            "03-03-20 20:08:52: N=20 from [5, 20], H=25 from [5, 25], rep  4/10, accuracy = 0.99980\n",
            "03-03-20 20:28:54: N=20 from [5, 20], H= 5 from [5, 25], rep  5/10, accuracy = 0.92520\n",
            "03-03-20 20:36:36: N=20 from [5, 20], H=25 from [5, 25], rep  5/10, accuracy = 1.00000\n",
            "03-03-20 20:44:47: N=20 from [5, 20], H= 5 from [5, 25], rep  6/10, accuracy = 0.50260\n",
            "03-03-20 20:52:31: N=20 from [5, 20], H=25 from [5, 25], rep  6/10, accuracy = 0.65470\n",
            "03-03-20 21:19:18: N=20 from [5, 20], H= 5 from [5, 25], rep  7/10, accuracy = 0.94900\n",
            "03-03-20 21:26:54: N=20 from [5, 20], H=25 from [5, 25], rep  7/10, accuracy = 0.99980\n",
            "03-03-20 21:54:01: N=20 from [5, 20], H= 5 from [5, 25], rep  8/10, accuracy = 0.50310\n",
            "03-03-20 22:01:50: N=20 from [5, 20], H=25 from [5, 25], rep  8/10, accuracy = 0.99980\n",
            "03-03-20 22:11:41: N=20 from [5, 20], H= 5 from [5, 25], rep  9/10, accuracy = 0.51780\n",
            "03-03-20 22:19:33: N=20 from [5, 20], H=25 from [5, 25], rep  9/10, accuracy = 0.99990\n",
            "03-03-20 22:46:57: N=20 from [5, 20], H= 5 from [5, 25], rep 10/10, accuracy = 0.98950\n",
            "03-03-20 22:54:44: N=20 from [5, 20], H=25 from [5, 25], rep 10/10, accuracy = 0.99950\n"
          ],
          "name": "stdout"
        }
      ]
    },
    {
      "cell_type": "code",
      "metadata": {
        "ExecuteTime": {
          "start_time": "2020-03-02T23:12:09.179Z"
        },
        "colab_type": "code",
        "id": "x6OreE18tSzt",
        "colab": {
          "base_uri": "https://localhost:8080/",
          "height": 279
        },
        "outputId": "8bbe9092-10d6-47c5-ee55-55dc831ba941"
      },
      "source": [
        "plot_accuracies(test_accs_lstm,Ns,Hs)\n"
      ],
      "execution_count": 10,
      "outputs": [
        {
          "output_type": "display_data",
          "data": {
            "image/png": "[encoded data removed]",
            "text/plain": [
              "<Figure size 432x288 with 1 Axes>"
            ]
          },
          "metadata": {
            "tags": []
          }
        }
      ]
    }
  ]
}