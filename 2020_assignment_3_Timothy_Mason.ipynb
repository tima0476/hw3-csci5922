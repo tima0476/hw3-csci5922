{
  "nbformat": 4,
  "nbformat_minor": 0,
  "metadata": {
    "accelerator": "TPU",
    "colab": {
      "name": "2020_assignment_3.ipynb",
      "provenance": [],
      "collapsed_sections": []
    },
    "kernelspec": {
      "name": "python3",
      "display_name": "Python 3"
    },
    "language_info": {
      "codemirror_mode": {
        "name": "ipython",
        "version": 3
      },
      "file_extension": ".py",
      "mimetype": "text/x-python",
      "name": "python",
      "nbconvert_exporter": "python",
      "pygments_lexer": "ipython3",
      "version": "3.7.6"
    },
    "varInspector": {
      "cols": {
        "lenName": 16,
        "lenType": 16,
        "lenVar": 40
      },
      "kernels_config": {
        "python": {
          "delete_cmd_postfix": "",
          "delete_cmd_prefix": "del ",
          "library": "var_list.py",
          "varRefreshCmd": "print(var_dic_list())"
        },
        "r": {
          "delete_cmd_postfix": ") ",
          "delete_cmd_prefix": "rm(",
          "library": "var_list.r",
          "varRefreshCmd": "cat(var_dic_list()) "
        }
      },
      "types_to_exclude": [
        "module",
        "function",
        "builtin_function_or_method",
        "instance",
        "_Feature"
      ],
      "window_display": false
    }
  },
  "cells": [
    {
      "cell_type": "markdown",
      "metadata": {
        "colab_type": "text",
        "id": "Kyfqk1ZwV3we"
      },
      "source": [
        "# Recurrent Neural Network\n",
        "***\n",
        "**Name**: Timothy Mason\n",
        "***"
      ]
    },
    {
      "cell_type": "markdown",
      "metadata": {
        "colab_type": "text",
        "id": "x2HnzA-ZURSu"
      },
      "source": [
        "## Goal\n",
        "The goal of this assignment is to use TensorFlow to build some recurrent neural nets (RNNs) and to understand their limitations through experimentation.\n",
        "\n",
        "## The Task\n",
        "You will implement a recurrent neural net to learn the parity operator. The net will have a single input unit and a single output unit, and a fully-connected layer of H hidden units. The inputs and target outputs are binary. When an input sequence is presented, the output state at the end of the sequence should be a parity bit: output should be 1 if the input has an odd number of '1' values. For example, the sequence 1-0-0-1-0-1 should yield output 1 and the sequence 0-0-0-0-1-1 should yield output 0. Note that a target is given only at the end of each sequence. (Parity is easy to learn if there is a target at each step that indicates parity given the sequence so far.)\n",
        "\n",
        "Parity is a hard problem for neural nets to learn because very similar inputs produce different outputs, and very dissimilar inputs can produce the same output.\n",
        "\n",
        "The aspects of the task we will manipulate are:  H, the number of hidden units, N, the length of the input strings, and the activation function for the hidden units, either tanh or LSTM-style neurons. The output neuron should have a logistic activation function.\n",
        "\n",
        "Tip: get started early.  Depending on your system, these nets can take several minutes to train.  Exploring hyperparameters (such as training rate) will be critical for success.\n"
      ]
    },
    {
      "cell_type": "markdown",
      "metadata": {
        "colab_type": "text",
        "id": "kKEl35tibl8t"
      },
      "source": [
        "### Some Help\n",
        "Below are some helper codes to:\n",
        "- generate input strings and their parity.\n",
        "- provide a callback to trigger early stopping during training\n",
        "- plotting"
      ]
    },
    {
      "cell_type": "code",
      "metadata": {
        "ExecuteTime": {
          "end_time": "2020-03-01T07:40:06.367772Z",
          "start_time": "2020-03-01T07:40:06.346997Z"
        },
        "colab_type": "code",
        "id": "Rsf2q8L6UY8n",
        "outputId": "483cea6b-787a-4a0b-a6f9-c461ef3d8c85",
        "colab": {
          "base_uri": "https://localhost:8080/",
          "height": 36
        }
      },
      "source": [
        "try:\n",
        "  # %tensorflow_version only exists in Colab.\n",
        "  %tensorflow_version 2.x\n",
        "except Exception:\n",
        "  pass\n",
        "\n",
        "import tensorflow as tf\n",
        "import numpy as np\n",
        "from matplotlib import pyplot\n",
        "\n",
        "def gen_binary_sequences(num, length):\n",
        "  '''\n",
        "  Generate :num: sequences of length :length:.\n",
        "  '''\n",
        "  return(np.random.randint(0, 2, size=(num, length), dtype=np.int32))\n",
        "\n",
        "def calc_parity(seqs):\n",
        "  '''\n",
        "  Calculate sequence parity (1 if odd number of 1s, 0 if even number of 1s)\n",
        "  '''\n",
        "  return(seqs.sum(axis=-1) % 2)\n",
        "\n",
        "\n",
        "class create_accuracy_callback(tf.keras.callbacks.Callback):\n",
        "    '''\n",
        "    Callback function to stop training at 100% accuracy\n",
        "    '''\n",
        "    def on_epoch_end(self, epoch, logs={}):\n",
        "        if(logs.get('accuracy') == 1.0 and logs.get('val_accuracy') == 1.0):\n",
        "            self.model.stop_training = True\n",
        "\n",
        "\n",
        "def plot_accuracies(accuracies,Ns,Hs):\n",
        "  '''\n",
        "  Make a graph of mean % correct (and standard error) on the test set for the different values of H and N.\n",
        "  Input: ndarray of |Hs|x|Ns|x(reps)\n",
        "         actual values of Ns and Hs\n",
        "  '''\n",
        "  lenH,lenN,lenreps = accuracies.shape\n",
        "  assert(lenH == len(Hs))\n",
        "  assert(lenN == len(Ns))\n",
        "  accuracies_mean = accuracies.mean(axis=2)\n",
        "  accuracies_std = accuracies.std(axis=2)\n",
        "  accuracies_stderr = accuracies_std/np.sqrt(lenreps)\n",
        "  # plot\n",
        "  fig = pyplot.figure()\n",
        "  ax = fig.add_subplot(111)\n",
        "  ax.axhline(0.5,linestyle=\"--\",color=\"gray\") # chance baseline\n",
        "  centers = np.arange(lenN)\n",
        "  for Hindex, H in enumerate(Hs):\n",
        "    ax.bar(centers + 0.8/lenH*(Hindex-(lenH-1)/2),\n",
        "           accuracies_mean[Hindex], 0.8/lenH, yerr=accuracies_stderr[Hindex],\n",
        "           alpha=0.5, label=f\"{H} hidden units\")\n",
        "  ax.set_xlabel(\"sequence length\")\n",
        "  pyplot.xticks(centers,Ns)\n",
        "  ax.set_ylabel(\"accuracy\")\n",
        "  pyplot.legend(loc=\"lower left\")"
      ],
      "execution_count": 1,
      "outputs": [
        {
          "output_type": "stream",
          "text": [
            "TensorFlow 2.x selected.\n"
          ],
          "name": "stdout"
        }
      ]
    },
    {
      "cell_type": "markdown",
      "metadata": {
        "colab_type": "text",
        "id": "fyhd-HYBdcF0"
      },
      "source": [
        "## Part 1\n",
        "**Part 1.a**<br>\n",
        "Fill in the code to create a net given H and N using the tanh activation function for the hidden units.  Keras has a number of RNN helper functions, although you can also write your own custom layers.\n",
        "\n",
        "Remember that the net should only take one bit of input at a time from the input sequence, and output one logistic value (between 0 and 1) only after the input sequence is complete."
      ]
    },
    {
      "cell_type": "code",
      "metadata": {
        "ExecuteTime": {
          "end_time": "2020-03-01T07:40:07.952340Z",
          "start_time": "2020-03-01T07:40:07.944403Z"
        },
        "colab_type": "code",
        "id": "AJuSiefzejFZ",
        "colab": {}
      },
      "source": [
        "import tensorflow as tf\n",
        "from tensorflow.keras import layers\n",
        "from datetime import datetime\n",
        "\n",
        "# %load_ext tensorboard\n",
        "# # Clear any logs from previous runs\n",
        "# !rm -rf ./logs/ \n",
        "\n",
        "def build_model(N,H):\n",
        "    '''\n",
        "    Builder for an RNN model. Model inputs are binary sequences of length :N:.\n",
        "\n",
        "    At each sequence position, the input and prior state should be fully connected \n",
        "    to :H: hidden units with tanh activation.\n",
        "\n",
        "    The output of the last state of the RNN should be fully connected to a single\n",
        "    unit with logistic activation, to perform the final classification of the \n",
        "    sequence.\n",
        "    '''\n",
        "\n",
        "    # based on example Keras RNN code from https://www.tensorflow.org/guide/keras/rnn\n",
        "\n",
        "    model = tf.keras.Sequential()\n",
        "    model.add(layers.Embedding(input_dim=N, output_dim=H))\n",
        "    model.add(layers.SimpleRNN(H))   # defaults are good (tanh activation, use a bias vector)\n",
        "    model.add(layers.Dense(1, activation='sigmoid'))\n",
        "\n",
        "    return model"
      ],
      "execution_count": 0,
      "outputs": []
    },
    {
      "cell_type": "markdown",
      "metadata": {
        "colab_type": "text",
        "id": "k0O0WxWqnTD7"
      },
      "source": [
        "**Part 1.b**<br>\n",
        "Then fill in the code to train several such nets.  Each repetition should randomize the initial weights and generate a random training set of 10000 examples of length N as well as a random test set of 10000 examples of length N.  Save 10% of the training as validation, and use at least the provided check_accuracy callback as an early stopping condition.\n",
        "\n",
        "Train nets for H ∈ {5, 25} and for N ∈ {5, 10, 15, 20}.  For each combination of H and N, run 10 replications of your simulation.  You will also need to try to find helpful learning rates; don't be surprised if your training is prone to cycles of stagnation for hundreds of epochs before quickly learning."
      ]
    },
    {
      "cell_type": "code",
      "metadata": {
        "ExecuteTime": {
          "end_time": "2020-03-01T07:40:09.514515Z",
          "start_time": "2020-03-01T07:40:09.508344Z"
        },
        "colab_type": "code",
        "id": "wpOs5URgWsQK",
        "colab": {}
      },
      "source": [
        "BATCH = 1000\n",
        "MAX_EPOCHS = 2000\n",
        "\n",
        "# logdir=\"logs/sequential_fit/\" + datetime.now().strftime(\"%Y%m%d-%H%M%S\")\n",
        "# tensorboard_callback = tf.keras.callbacks.TensorBoard(log_dir=logdir)\n",
        "\n",
        "def train_model(model, x_train, y_train, x_test, y_test):\n",
        "    '''\n",
        "    Compiles and trains the :model:.\n",
        "    '''\n",
        "    # start by compiling the model; accuracy should be a tracked metric\n",
        "    model.compile(loss='binary_crossentropy', metrics=['accuracy'])\n",
        "\n",
        "    # train model\n",
        "    check_accuracy = create_accuracy_callback()\n",
        "    model.fit( x_train,\n",
        "              y_train, \n",
        "              batch_size=BATCH, \n",
        "              epochs=MAX_EPOCHS, \n",
        "              verbose=0, \n",
        "              validation_data=(x_test, y_test),\n",
        "              use_multiprocessing=True,\n",
        "              callbacks=[check_accuracy] )\n",
        "            #   callbacks=[check_accuracy, tensorboard_callback] )"
      ],
      "execution_count": 0,
      "outputs": []
    },
    {
      "cell_type": "code",
      "metadata": {
        "ExecuteTime": {
          "end_time": "2020-03-01T07:40:16.774891Z",
          "start_time": "2020-03-01T07:40:10.678481Z"
        },
        "colab_type": "code",
        "id": "jmLQlzRNfiUJ",
        "colab": {
          "base_uri": "https://localhost:8080/",
          "height": 1000
        },
        "outputId": "c98bee36-696f-45f1-eabd-d52de850aa63"
      },
      "source": [
        "Hs = [5,25]\n",
        "Ns = [5,10,20,40]\n",
        "REPS = 10\n",
        "SAMPLES = 10000\n",
        "\n",
        "test_accs = np.zeros([len(Hs),len(Ns),REPS])\n",
        "for Nindex, N in enumerate(Ns):\n",
        "    for rep in range(REPS):\n",
        "        # (data is reusable across changes to the number of hidden units)\n",
        "        # generate a random training set of 10000 examples of length N\n",
        "        x_train = gen_binary_sequences(SAMPLES, N)\n",
        "        y_train = calc_parity(x_train)\n",
        "\n",
        "        # generate a random test set of 10000 examples of length N\n",
        "        x_test = gen_binary_sequences(SAMPLES, N)\n",
        "        y_test = calc_parity(x_test)\n",
        "\n",
        "        for Hindex, H in enumerate(Hs):\n",
        "            ds = datetime.now().strftime(\"%d-%b %T\")\n",
        "            print(f\"{ds}: starting N={N}/{Ns}, H={H}/{Hs}, rep {rep+1}/{REPS}\")\n",
        "            # build model\n",
        "            model = build_model(N,H)\n",
        "            # train model\n",
        "            train_model(model, x_train, y_train, x_test, y_test)\n",
        "            # test model with newly generated test data (extracting test accuracy as test_acc) \n",
        "            x_test = gen_binary_sequences(SAMPLES, N)\n",
        "            y_test = calc_parity(x_test)\n",
        "            check_accuracy = create_accuracy_callback()\n",
        "            test_acc = model.evaluate( x=x_test, \n",
        "                                    y=y_test, \n",
        "                                    batch_size=BATCH, \n",
        "                                    verbose=1, \n",
        "                                    callbacks=[check_accuracy] )[1]\n",
        "                                    # callbacks=[check_accuracy, tensorboard_callback] )[1]\n",
        "\n",
        "            test_accs[Hindex,Nindex,rep] = test_acc"
      ],
      "execution_count": 0,
      "outputs": [
        {
          "output_type": "stream",
          "text": [
            "02-Mar 02:35:17: starting N=5/[5, 10, 20, 40], H=5/[5, 25], rep 1/10\n",
            "10000/10000 [==============================] - 0s 3us/sample - loss: 0.6937 - accuracy: 0.5203\n",
            "02-Mar 02:37:16: starting N=5/[5, 10, 20, 40], H=25/[5, 25], rep 1/10\n",
            "10000/10000 [==============================] - 0s 4us/sample - loss: 0.6938 - accuracy: 0.4876\n",
            "02-Mar 02:40:53: starting N=5/[5, 10, 20, 40], H=5/[5, 25], rep 2/10\n",
            "10000/10000 [==============================] - 0s 3us/sample - loss: 0.1137 - accuracy: 1.0000\n",
            "02-Mar 02:42:27: starting N=5/[5, 10, 20, 40], H=25/[5, 25], rep 2/10\n",
            "10000/10000 [==============================] - 0s 4us/sample - loss: 0.6935 - accuracy: 0.4966\n",
            "02-Mar 02:46:00: starting N=5/[5, 10, 20, 40], H=5/[5, 25], rep 3/10\n",
            "10000/10000 [==============================] - 0s 3us/sample - loss: 0.0798 - accuracy: 1.0000\n",
            "02-Mar 02:47:06: starting N=5/[5, 10, 20, 40], H=25/[5, 25], rep 3/10\n",
            "10000/10000 [==============================] - 0s 4us/sample - loss: 0.6933 - accuracy: 0.5008\n",
            "02-Mar 02:50:30: starting N=5/[5, 10, 20, 40], H=5/[5, 25], rep 4/10\n",
            "10000/10000 [==============================] - 0s 3us/sample - loss: 0.0542 - accuracy: 0.9361\n",
            "02-Mar 02:52:25: starting N=5/[5, 10, 20, 40], H=25/[5, 25], rep 4/10\n",
            "10000/10000 [==============================] - 0s 4us/sample - loss: 0.6935 - accuracy: 0.5308\n",
            "02-Mar 02:55:51: starting N=5/[5, 10, 20, 40], H=5/[5, 25], rep 5/10\n",
            "10000/10000 [==============================] - 0s 3us/sample - loss: 0.1271 - accuracy: 0.9330\n",
            "02-Mar 02:57:48: starting N=5/[5, 10, 20, 40], H=25/[5, 25], rep 5/10\n",
            "10000/10000 [==============================] - 0s 4us/sample - loss: 0.6936 - accuracy: 0.4962\n",
            "02-Mar 03:01:13: starting N=5/[5, 10, 20, 40], H=5/[5, 25], rep 6/10\n",
            "10000/10000 [==============================] - 0s 35us/sample - loss: 0.6934 - accuracy: 0.4937\n",
            "02-Mar 03:03:09: starting N=5/[5, 10, 20, 40], H=25/[5, 25], rep 6/10\n",
            "10000/10000 [==============================] - 0s 4us/sample - loss: 0.6931 - accuracy: 0.5075\n",
            "02-Mar 03:06:35: starting N=5/[5, 10, 20, 40], H=5/[5, 25], rep 7/10\n",
            "10000/10000 [==============================] - 0s 4us/sample - loss: 0.0934 - accuracy: 1.0000\n",
            "02-Mar 03:07:55: starting N=5/[5, 10, 20, 40], H=25/[5, 25], rep 7/10\n",
            "10000/10000 [==============================] - 0s 4us/sample - loss: 0.6934 - accuracy: 0.4637\n",
            "02-Mar 03:11:29: starting N=5/[5, 10, 20, 40], H=5/[5, 25], rep 8/10\n",
            "10000/10000 [==============================] - 0s 3us/sample - loss: 0.2042 - accuracy: 1.0000\n",
            "02-Mar 03:13:37: starting N=5/[5, 10, 20, 40], H=25/[5, 25], rep 8/10\n",
            "10000/10000 [==============================] - 0s 4us/sample - loss: 0.3727 - accuracy: 1.0000\n",
            "02-Mar 03:16:56: starting N=5/[5, 10, 20, 40], H=5/[5, 25], rep 9/10\n",
            "10000/10000 [==============================] - 0s 3us/sample - loss: 0.1732 - accuracy: 0.8740\n",
            "02-Mar 03:18:51: starting N=5/[5, 10, 20, 40], H=25/[5, 25], rep 9/10\n",
            "10000/10000 [==============================] - 0s 4us/sample - loss: 0.6929 - accuracy: 0.5087\n",
            "02-Mar 03:22:15: starting N=5/[5, 10, 20, 40], H=5/[5, 25], rep 10/10\n",
            "10000/10000 [==============================] - 0s 3us/sample - loss: 0.2132 - accuracy: 0.9369\n",
            "02-Mar 03:24:10: starting N=5/[5, 10, 20, 40], H=25/[5, 25], rep 10/10\n",
            "10000/10000 [==============================] - 0s 4us/sample - loss: 0.6933 - accuracy: 0.5354\n",
            "02-Mar 03:27:37: starting N=10/[5, 10, 20, 40], H=5/[5, 25], rep 1/10\n",
            "10000/10000 [==============================] - 0s 3us/sample - loss: 0.6777 - accuracy: 0.5661\n",
            "02-Mar 03:30:06: starting N=10/[5, 10, 20, 40], H=25/[5, 25], rep 1/10\n",
            "10000/10000 [==============================] - 0s 5us/sample - loss: 0.0314 - accuracy: 0.9964\n",
            "02-Mar 03:35:08: starting N=10/[5, 10, 20, 40], H=5/[5, 25], rep 2/10\n",
            "10000/10000 [==============================] - 0s 4us/sample - loss: 0.6285 - accuracy: 0.5980\n",
            "02-Mar 03:37:35: starting N=10/[5, 10, 20, 40], H=25/[5, 25], rep 2/10\n",
            "10000/10000 [==============================] - 0s 7us/sample - loss: 0.0158 - accuracy: 1.0000\n",
            "02-Mar 03:39:05: starting N=10/[5, 10, 20, 40], H=5/[5, 25], rep 3/10\n",
            "10000/10000 [==============================] - 0s 4us/sample - loss: 0.2814 - accuracy: 0.8661\n",
            "02-Mar 03:41:49: starting N=10/[5, 10, 20, 40], H=25/[5, 25], rep 3/10\n",
            "10000/10000 [==============================] - 0s 6us/sample - loss: 0.0134 - accuracy: 1.0000\n",
            "02-Mar 03:45:29: starting N=10/[5, 10, 20, 40], H=5/[5, 25], rep 4/10\n",
            "10000/10000 [==============================] - 0s 3us/sample - loss: 0.5379 - accuracy: 0.6925\n",
            "02-Mar 03:47:58: starting N=10/[5, 10, 20, 40], H=25/[5, 25], rep 4/10\n",
            "10000/10000 [==============================] - 0s 6us/sample - loss: 0.0096 - accuracy: 1.0000\n",
            "02-Mar 03:49:46: starting N=10/[5, 10, 20, 40], H=5/[5, 25], rep 5/10\n",
            "10000/10000 [==============================] - 0s 3us/sample - loss: 0.4689 - accuracy: 0.7448\n",
            "02-Mar 03:52:12: starting N=10/[5, 10, 20, 40], H=25/[5, 25], rep 5/10\n",
            "10000/10000 [==============================] - 0s 6us/sample - loss: 0.0029 - accuracy: 1.0000\n",
            "02-Mar 03:55:00: starting N=10/[5, 10, 20, 40], H=5/[5, 25], rep 6/10\n",
            "10000/10000 [==============================] - 0s 3us/sample - loss: 0.3408 - accuracy: 0.8548\n",
            "02-Mar 03:57:28: starting N=10/[5, 10, 20, 40], H=25/[5, 25], rep 6/10\n"
          ],
          "name": "stdout"
        }
      ]
    },
    {
      "cell_type": "markdown",
      "metadata": {
        "colab_type": "text",
        "id": "u4RbGJEbexGV"
      },
      "source": [
        "**Part 1.c**<br>\n",
        "Make the graph of mean % correct (and standard error) on the test set for the different values of H and N."
      ]
    },
    {
      "cell_type": "code",
      "metadata": {
        "colab_type": "code",
        "id": "_ew6HWSpkpeW",
        "colab": {}
      },
      "source": [
        "plot_accuracies(test_accs,Ns,Hs)\n",
        "%tensorboard --logdir logs"
      ],
      "execution_count": 0,
      "outputs": []
    },
    {
      "cell_type": "markdown",
      "metadata": {
        "colab_type": "text",
        "id": "Ku9WKNAafXnj"
      },
      "source": [
        "## Part 2\n",
        "Repeat the experiments of Part 1, but use LSTM neurons instead of tanh neurons in the recurrent layer.  Comment on your experiences."
      ]
    },
    {
      "cell_type": "markdown",
      "metadata": {
        "colab_type": "text",
        "id": "GU7uynCutpJ7"
      },
      "source": [
        ""
      ]
    },
    {
      "cell_type": "code",
      "metadata": {
        "id": "K1NhUtyLry9v",
        "colab_type": "code",
        "colab": {}
      },
      "source": [
        "def build_model_lstm(N,H):\n",
        "    '''\n",
        "    Builder for an LST model. Model inputs are binary sequences of length :N:.\n",
        "\n",
        "    '''\n",
        "\n",
        "    # based on example Keras RNN code from https://www.tensorflow.org/guide/keras/rnn\n",
        "\n",
        "    model = tf.keras.Sequential()\n",
        "    model.add(layers.Embedding(input_dim=N, output_dim=H))\n",
        "    model.add(layers.LSTM(H))   \n",
        "    model.add(layers.Dense(1, activation='sigmoid'))\n",
        "\n",
        "    return model"
      ],
      "execution_count": 0,
      "outputs": []
    },
    {
      "cell_type": "code",
      "metadata": {
        "id": "B47-LQqctBVA",
        "colab_type": "code",
        "colab": {}
      },
      "source": [
        "test_accs_lstm = np.zeros([len(Hs),len(Ns),REPS])\n",
        "for Nindex, N in enumerate(Ns):\n",
        "    for rep in range(REPS):\n",
        "        # (data is reusable across changes to the number of hidden units)\n",
        "        # generate a random training set of 10000 examples of length N\n",
        "        x_train = gen_binary_sequences(SAMPLES, N)\n",
        "        y_train = calc_parity(x_train)\n",
        "\n",
        "        # generate a random test set of 10000 examples of length N\n",
        "        x_test = gen_binary_sequences(SAMPLES, N)\n",
        "        y_test = calc_parity(x_test)\n",
        "\n",
        "        for Hindex, H in enumerate(Hs):\n",
        "            ds = datetime.now().strftime(\"%d-%b %T\")\n",
        "            print(f\"{ds}: starting N={N}/{Ns}, H={H}/{Hs}, rep {rep+1}/{REPS}\")\n",
        "            # build model\n",
        "            model = build_model_lstm(N,H)\n",
        "            # train model\n",
        "            train_model(model, x_train, y_train, x_test, y_test)\n",
        "            # test model with newly generated test data (extracting test accuracy as test_acc) \n",
        "            x_test = gen_binary_sequences(SAMPLES, N)\n",
        "            y_test = calc_parity(x_test)\n",
        "            check_accuracy = create_accuracy_callback()\n",
        "            test_acc = model.evaluate( x=x_test, \n",
        "                                    y=y_test, \n",
        "                                    batch_size=BATCH, \n",
        "                                    verbose=1, \n",
        "                                    callbacks=[check_accuracy] )[1]\n",
        "                                    # callbacks=[check_accuracy, tensorboard_callback] )[1]\n",
        "\n",
        "            test_accs_lstm[Hindex,Nindex,rep] = test_acc"
      ],
      "execution_count": 0,
      "outputs": []
    },
    {
      "cell_type": "code",
      "metadata": {
        "id": "x6OreE18tSzt",
        "colab_type": "code",
        "colab": {}
      },
      "source": [
        "plot_accuracies(test_accs_lstm,Ns,Hs)\n"
      ],
      "execution_count": 0,
      "outputs": []
    }
  ]
}