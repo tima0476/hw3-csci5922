{
 "cells": [
  {
   "cell_type": "markdown",
   "metadata": {
    "colab_type": "text",
    "id": "Kyfqk1ZwV3we"
   },
   "source": [
    "# Recurrent Neural Network\n",
    "***\n",
    "**Name**: Timothy Mason\n",
    "***"
   ]
  },
  {
   "cell_type": "markdown",
   "metadata": {
    "colab_type": "text",
    "id": "x2HnzA-ZURSu"
   },
   "source": [
    "## Goal\n",
    "The goal of this assignment is to use TensorFlow to build some recurrent neural nets (RNNs) and to understand their limitations through experimentation.\n",
    "\n",
    "## The Task\n",
    "You will implement a recurrent neural net to learn the parity operator. The net will have a single input unit and a single output unit, and a fully-connected layer of H hidden units. The inputs and target outputs are binary. When an input sequence is presented, the output state at the end of the sequence should be a parity bit: output should be 1 if the input has an odd number of '1' values. For example, the sequence 1-0-0-1-0-1 should yield output 1 and the sequence 0-0-0-0-1-1 should yield output 0. Note that a target is given only at the end of each sequence. (Parity is easy to learn if there is a target at each step that indicates parity given the sequence so far.)\n",
    "\n",
    "Parity is a hard problem for neural nets to learn because very similar inputs produce different outputs, and very dissimilar inputs can produce the same output.\n",
    "\n",
    "The aspects of the task we will manipulate are:  H, the number of hidden units, N, the length of the input strings, and the activation function for the hidden units, either tanh or LSTM-style neurons. The output neuron should have a logistic activation function.\n",
    "\n",
    "Tip: get started early.  Depending on your system, these nets can take several minutes to train.  Exploring hyperparameters (such as training rate) will be critical for success.\n"
   ]
  },
  {
   "cell_type": "markdown",
   "metadata": {
    "colab_type": "text",
    "id": "kKEl35tibl8t"
   },
   "source": [
    "### Some Help\n",
    "Below are some helper codes to:\n",
    "- generate input strings and their parity.\n",
    "- provide a callback to trigger early stopping during training\n",
    "- plotting"
   ]
  },
  {
   "cell_type": "code",
   "execution_count": 9,
   "metadata": {
    "ExecuteTime": {
     "end_time": "2020-03-01T07:40:06.367772Z",
     "start_time": "2020-03-01T07:40:06.346997Z"
    },
    "colab": {
     "base_uri": "https://localhost:8080/",
     "height": 34
    },
    "colab_type": "code",
    "id": "Rsf2q8L6UY8n",
    "outputId": "a8b9f0cb-c19a-4cbc-c678-3fb0f13c331d"
   },
   "outputs": [],
   "source": [
    "try:\n",
    "  # %tensorflow_version only exists in Colab.\n",
    "  %tensorflow_version 2.x\n",
    "except Exception:\n",
    "  pass\n",
    "\n",
    "import tensorflow as tf\n",
    "import numpy as np\n",
    "from matplotlib import pyplot\n",
    "\n",
    "def gen_binary_sequences(num, length):\n",
    "  '''\n",
    "  Generate :num: sequences of length :length:.\n",
    "  '''\n",
    "  return(np.random.randint(0, 2, size=(num, length), dtype=np.int32))\n",
    "\n",
    "def calc_parity(seqs):\n",
    "  '''\n",
    "  Calculate sequence parity (1 if odd number of 1s, 0 if even number of 1s)\n",
    "  '''\n",
    "  return(seqs.sum(axis=-1) % 2)\n",
    "\n",
    "\n",
    "class create_accuracy_callback(tf.keras.callbacks.Callback):\n",
    "    '''\n",
    "    Callback function to stop training at 100% accuracy\n",
    "    '''\n",
    "    def on_epoch_end(self, epoch, logs={}):\n",
    "#         print(f\"epoch {epoch}  logs: {logs}\")\n",
    "#         breakpoint()\n",
    "        if(logs.get('accuracy') == 1.0 and logs.get('val_accuracy') == 1.0):\n",
    "            self.model.stop_training = True\n",
    "\n",
    "\n",
    "def plot_accuracies(accuracies,Ns,Hs):\n",
    "  '''\n",
    "  Make a graph of mean % correct (and standard error) on the test set for the different values of H and N.\n",
    "  Input: ndarray of |Hs|x|Ns|x(reps)\n",
    "         actual values of Ns and Hs\n",
    "  '''\n",
    "  lenH,lenN,lenreps = accuracies.shape\n",
    "  assert(lenH == len(Hs))\n",
    "  assert(lenN == len(Ns))\n",
    "  accuracies_mean = accuracies.mean(axis=2)\n",
    "  accuracies_std = accuracies.std(axis=2)\n",
    "  accuracies_stderr = accuracies_std/np.sqrt(lenreps)\n",
    "  # plot\n",
    "  fig = pyplot.figure()\n",
    "  ax = fig.add_subplot(111)\n",
    "  ax.axhline(0.5,linestyle=\"--\",color=\"gray\") # chance baseline\n",
    "  centers = np.arange(lenN)\n",
    "  for Hindex, H in enumerate(Hs):\n",
    "    ax.bar(centers + 0.8/lenH*(Hindex-(lenH-1)/2),\n",
    "           accuracies_mean[Hindex], 0.8/lenH, yerr=accuracies_stderr[Hindex],\n",
    "           alpha=0.5, label=f\"{H} hidden units\")\n",
    "  ax.set_xlabel(\"sequence length\")\n",
    "  pyplot.xticks(centers,Ns)\n",
    "  ax.set_ylabel(\"accuracy\")\n",
    "  pyplot.legend(loc=\"lower left\")"
   ]
  },
  {
   "cell_type": "markdown",
   "metadata": {
    "colab_type": "text",
    "id": "fyhd-HYBdcF0"
   },
   "source": [
    "## Part 1\n",
    "**Part 1.a**<br>\n",
    "Fill in the code to create a net given H and N using the tanh activation function for the hidden units.  Keras has a number of RNN helper functions, although you can also write your own custom layers.\n",
    "\n",
    "Remember that the net should only take one bit of input at a time from the input sequence, and output one logistic value (between 0 and 1) only after the input sequence is complete."
   ]
  },
  {
   "cell_type": "code",
   "execution_count": 10,
   "metadata": {
    "ExecuteTime": {
     "end_time": "2020-03-01T07:40:07.952340Z",
     "start_time": "2020-03-01T07:40:07.944403Z"
    },
    "colab": {},
    "colab_type": "code",
    "id": "AJuSiefzejFZ"
   },
   "outputs": [],
   "source": [
    "try:\n",
    "  # %tensorflow_version only exists in Colab.\n",
    "  %tensorflow_version 2.x\n",
    "except Exception:\n",
    "  pass\n",
    "\n",
    "import tensorflow as tf\n",
    "from tensorflow.keras import layers\n",
    "\n",
    "def build_model(N,H):\n",
    "    '''\n",
    "    Builder for an RNN model. Model inputs are binary sequences of length :N:.\n",
    "\n",
    "    At each sequence position, the input and prior state should be fully connected \n",
    "    to :H: hidden units with tanh activation.\n",
    "\n",
    "    The output of the last state of the RNN should be fully connected to a single\n",
    "    unit with logistic activation, to perform the final classification of the \n",
    "    sequence.\n",
    "    '''\n",
    "\n",
    "    # based on example Keras RNN code from https://www.tensorflow.org/guide/keras/rnn\n",
    "\n",
    "    model = tf.keras.Sequential()\n",
    "    model.add(layers.Embedding(input_dim=N, output_dim=H))\n",
    "    model.add(layers.SimpleRNN(H))   # defaults are good (tanh activation, use a bias vector)\n",
    "    model.add(layers.Dense(1, activation='sigmoid'))\n",
    "\n",
    "    return model"
   ]
  },
  {
   "cell_type": "markdown",
   "metadata": {
    "colab_type": "text",
    "id": "k0O0WxWqnTD7"
   },
   "source": [
    "**Part 1.b**<br>\n",
    "Then fill in the code to train several such nets.  Each repetition should randomize the initial weights and generate a random training set of 10000 examples of length N as well as a random test set of 10000 examples of length N.  Save 10% of the training as validation, and use at least the provided check_accuracy callback as an early stopping condition.\n",
    "\n",
    "Train nets for H ∈ {5, 25} and for N ∈ {5, 10, 15, 20}.  For each combination of H and N, run 10 replications of your simulation.  You will also need to try to find helpful learning rates; don't be surprised if your training is prone to cycles of stagnation for hundreds of epochs before quickly learning."
   ]
  },
  {
   "cell_type": "code",
   "execution_count": 11,
   "metadata": {
    "ExecuteTime": {
     "end_time": "2020-03-01T07:40:09.514515Z",
     "start_time": "2020-03-01T07:40:09.508344Z"
    },
    "colab": {},
    "colab_type": "code",
    "id": "wpOs5URgWsQK"
   },
   "outputs": [],
   "source": [
    "BATCH = 1000\n",
    "MAX_EPOCHS = 2000\n",
    "\n",
    "check_accuracy = create_accuracy_callback()\n",
    "def train_model(model, x_train, y_train, x_test, y_test):\n",
    "    '''\n",
    "    Compiles and trains the :model:.\n",
    "    '''\n",
    "    # start by compiling the model; accuracy should be a tracked metric\n",
    "    model.compile(loss='binary_crossentropy', metrics=['accuracy'])\n",
    "\n",
    "    # train model\n",
    "    model.fit( x_train,\n",
    "              y_train, \n",
    "              batch_size=BATCH, \n",
    "              epochs=MAX_EPOCHS, \n",
    "              verbose=1, \n",
    "              validation_data=(x_test, y_test),\n",
    "              callbacks=[check_accuracy] )"
   ]
  },
  {
   "cell_type": "code",
   "execution_count": 12,
   "metadata": {
    "ExecuteTime": {
     "end_time": "2020-03-01T07:40:16.774891Z",
     "start_time": "2020-03-01T07:40:10.678481Z"
    },
    "colab": {
     "base_uri": "https://localhost:8080/"
    },
    "colab_type": "code",
    "id": "jmLQlzRNfiUJ",
    "outputId": "ec73231d-540c-4ed9-d301-06f004dc6bd2"
   },
   "outputs": [
    {
     "name": "stdout",
     "output_type": "stream",
     "text": [
      "starting N=5, H=5, rep 0/10\n",
      "Train on 10000 samples, validate on 10000 samples\n",
      "Epoch 1/2000\n",
      "10000/10000 [==============================] - 3s 278us/sample - loss: 0.6935 - accuracy: 0.5015 - val_loss: 0.6932 - val_accuracy: 0.5089\n",
      "Epoch 2/2000\n",
      "10000/10000 [==============================] - 0s 19us/sample - loss: 0.6932 - accuracy: 0.5042 - val_loss: 0.6931 - val_accuracy: 0.5087\n",
      "Epoch 3/2000\n",
      "10000/10000 [==============================] - 0s 19us/sample - loss: 0.6931 - accuracy: 0.5038 - val_loss: 0.6931 - val_accuracy: 0.5056\n",
      "Epoch 4/2000\n",
      "10000/10000 [==============================] - 0s 19us/sample - loss: 0.6931 - accuracy: 0.4842 - val_loss: 0.6931 - val_accuracy: 0.5065\n",
      "Epoch 5/2000\n",
      "10000/10000 [==============================] - 0s 19us/sample - loss: 0.6931 - accuracy: 0.4816 - val_loss: 0.6931 - val_accuracy: 0.5077\n",
      "Epoch 6/2000\n",
      "10000/10000 [==============================] - 0s 19us/sample - loss: 0.6931 - accuracy: 0.4720 - val_loss: 0.6932 - val_accuracy: 0.5063\n",
      "Epoch 7/2000\n",
      "10000/10000 [==============================] - 0s 19us/sample - loss: 0.6931 - accuracy: 0.4883 - val_loss: 0.6931 - val_accuracy: 0.5061\n",
      "Epoch 8/2000\n",
      "10000/10000 [==============================] - 0s 19us/sample - loss: 0.6931 - accuracy: 0.4784 - val_loss: 0.6931 - val_accuracy: 0.5055\n",
      "Epoch 9/2000\n",
      "10000/10000 [==============================] - 0s 19us/sample - loss: 0.6931 - accuracy: 0.4967 - val_loss: 0.6931 - val_accuracy: 0.5034\n",
      "Epoch 10/2000\n",
      "10000/10000 [==============================] - 0s 19us/sample - loss: 0.6930 - accuracy: 0.5204 - val_loss: 0.6931 - val_accuracy: 0.5084\n",
      "Epoch 11/2000\n",
      "10000/10000 [==============================] - 0s 19us/sample - loss: 0.6930 - accuracy: 0.5175 - val_loss: 0.6931 - val_accuracy: 0.5035\n",
      "Epoch 12/2000\n",
      "10000/10000 [==============================] - 0s 20us/sample - loss: 0.6930 - accuracy: 0.5155 - val_loss: 0.6931 - val_accuracy: 0.5111\n",
      "Epoch 13/2000\n",
      "10000/10000 [==============================] - 0s 20us/sample - loss: 0.6931 - accuracy: 0.4925 - val_loss: 0.6931 - val_accuracy: 0.5012\n",
      "Epoch 14/2000\n",
      "10000/10000 [==============================] - 0s 20us/sample - loss: 0.6931 - accuracy: 0.5072 - val_loss: 0.6931 - val_accuracy: 0.5102\n",
      "Epoch 15/2000\n",
      "10000/10000 [==============================] - 0s 20us/sample - loss: 0.6930 - accuracy: 0.5015 - val_loss: 0.6932 - val_accuracy: 0.5043\n",
      "Epoch 16/2000\n",
      "10000/10000 [==============================] - 0s 20us/sample - loss: 0.6931 - accuracy: 0.5219 - val_loss: 0.6931 - val_accuracy: 0.5024\n",
      "Epoch 17/2000\n",
      "10000/10000 [==============================] - 0s 16us/sample - loss: 0.6931 - accuracy: 0.5147\n"
     ]
    },
    {
     "ename": "KeyboardInterrupt",
     "evalue": "",
     "output_type": "error",
     "traceback": [
      "\u001b[0;31m---------------------------------------------------------------------------\u001b[0m",
      "\u001b[0;31mKeyboardInterrupt\u001b[0m                         Traceback (most recent call last)",
      "\u001b[0;32m<ipython-input-12-4a063e572028>\u001b[0m in \u001b[0;36m<module>\u001b[0;34m\u001b[0m\n\u001b[1;32m     22\u001b[0m             \u001b[0mmodel\u001b[0m \u001b[0;34m=\u001b[0m \u001b[0mbuild_model\u001b[0m\u001b[0;34m(\u001b[0m\u001b[0mN\u001b[0m\u001b[0;34m,\u001b[0m\u001b[0mH\u001b[0m\u001b[0;34m)\u001b[0m\u001b[0;34m\u001b[0m\u001b[0;34m\u001b[0m\u001b[0m\n\u001b[1;32m     23\u001b[0m             \u001b[0;31m# train model\u001b[0m\u001b[0;34m\u001b[0m\u001b[0;34m\u001b[0m\u001b[0;34m\u001b[0m\u001b[0m\n\u001b[0;32m---> 24\u001b[0;31m             \u001b[0mtrain_model\u001b[0m\u001b[0;34m(\u001b[0m\u001b[0mmodel\u001b[0m\u001b[0;34m,\u001b[0m \u001b[0mx_train\u001b[0m\u001b[0;34m,\u001b[0m \u001b[0my_train\u001b[0m\u001b[0;34m,\u001b[0m \u001b[0mx_test\u001b[0m\u001b[0;34m,\u001b[0m \u001b[0my_test\u001b[0m\u001b[0;34m)\u001b[0m\u001b[0;34m\u001b[0m\u001b[0;34m\u001b[0m\u001b[0m\n\u001b[0m\u001b[1;32m     25\u001b[0m             \u001b[0;31m# test model (extracting test accuracy as test_acc)\u001b[0m\u001b[0;34m\u001b[0m\u001b[0;34m\u001b[0m\u001b[0;34m\u001b[0m\u001b[0m\n\u001b[1;32m     26\u001b[0m             test_acc = evaluate( x=x_test, \n",
      "\u001b[0;32m<ipython-input-11-f7fa5e810654>\u001b[0m in \u001b[0;36mtrain_model\u001b[0;34m(model, x_train, y_train, x_test, y_test)\u001b[0m\n\u001b[1;32m     17\u001b[0m               \u001b[0mverbose\u001b[0m\u001b[0;34m=\u001b[0m\u001b[0;36m1\u001b[0m\u001b[0;34m,\u001b[0m\u001b[0;34m\u001b[0m\u001b[0;34m\u001b[0m\u001b[0m\n\u001b[1;32m     18\u001b[0m               \u001b[0mvalidation_data\u001b[0m\u001b[0;34m=\u001b[0m\u001b[0;34m(\u001b[0m\u001b[0mx_test\u001b[0m\u001b[0;34m,\u001b[0m \u001b[0my_test\u001b[0m\u001b[0;34m)\u001b[0m\u001b[0;34m,\u001b[0m\u001b[0;34m\u001b[0m\u001b[0;34m\u001b[0m\u001b[0m\n\u001b[0;32m---> 19\u001b[0;31m               callbacks=[check_accuracy] )\n\u001b[0m",
      "\u001b[0;32m~/opt/miniconda3/envs/csci5922/lib/python3.7/site-packages/tensorflow_core/python/keras/engine/training.py\u001b[0m in \u001b[0;36mfit\u001b[0;34m(self, x, y, batch_size, epochs, verbose, callbacks, validation_split, validation_data, shuffle, class_weight, sample_weight, initial_epoch, steps_per_epoch, validation_steps, validation_freq, max_queue_size, workers, use_multiprocessing, **kwargs)\u001b[0m\n\u001b[1;32m    726\u001b[0m         \u001b[0mmax_queue_size\u001b[0m\u001b[0;34m=\u001b[0m\u001b[0mmax_queue_size\u001b[0m\u001b[0;34m,\u001b[0m\u001b[0;34m\u001b[0m\u001b[0;34m\u001b[0m\u001b[0m\n\u001b[1;32m    727\u001b[0m         \u001b[0mworkers\u001b[0m\u001b[0;34m=\u001b[0m\u001b[0mworkers\u001b[0m\u001b[0;34m,\u001b[0m\u001b[0;34m\u001b[0m\u001b[0;34m\u001b[0m\u001b[0m\n\u001b[0;32m--> 728\u001b[0;31m         use_multiprocessing=use_multiprocessing)\n\u001b[0m\u001b[1;32m    729\u001b[0m \u001b[0;34m\u001b[0m\u001b[0m\n\u001b[1;32m    730\u001b[0m   def evaluate(self,\n",
      "\u001b[0;32m~/opt/miniconda3/envs/csci5922/lib/python3.7/site-packages/tensorflow_core/python/keras/engine/training_v2.py\u001b[0m in \u001b[0;36mfit\u001b[0;34m(self, model, x, y, batch_size, epochs, verbose, callbacks, validation_split, validation_data, shuffle, class_weight, sample_weight, initial_epoch, steps_per_epoch, validation_steps, validation_freq, **kwargs)\u001b[0m\n\u001b[1;32m    335\u001b[0m                 \u001b[0meval_data_iter\u001b[0m\u001b[0;34m.\u001b[0m\u001b[0m_initializer\u001b[0m  \u001b[0;31m# pylint: disable=pointless-statement\u001b[0m\u001b[0;34m\u001b[0m\u001b[0;34m\u001b[0m\u001b[0m\n\u001b[1;32m    336\u001b[0m               \u001b[0;32melse\u001b[0m\u001b[0;34m:\u001b[0m\u001b[0;34m\u001b[0m\u001b[0;34m\u001b[0m\u001b[0m\n\u001b[0;32m--> 337\u001b[0;31m                 \u001b[0meval_data_iter\u001b[0m \u001b[0;34m=\u001b[0m \u001b[0miter\u001b[0m\u001b[0;34m(\u001b[0m\u001b[0mvalidation_dataset\u001b[0m\u001b[0;34m)\u001b[0m\u001b[0;34m\u001b[0m\u001b[0;34m\u001b[0m\u001b[0m\n\u001b[0m\u001b[1;32m    338\u001b[0m \u001b[0;34m\u001b[0m\u001b[0m\n\u001b[1;32m    339\u001b[0m               validation_callbacks = cbks.configure_callbacks(\n",
      "\u001b[0;32m~/opt/miniconda3/envs/csci5922/lib/python3.7/site-packages/tensorflow_core/python/data/ops/dataset_ops.py\u001b[0m in \u001b[0;36m__iter__\u001b[0;34m(self)\u001b[0m\n\u001b[1;32m    330\u001b[0m     if (context.executing_eagerly()\n\u001b[1;32m    331\u001b[0m         or ops.get_default_graph()._building_function):  # pylint: disable=protected-access\n\u001b[0;32m--> 332\u001b[0;31m       \u001b[0;32mreturn\u001b[0m \u001b[0miterator_ops\u001b[0m\u001b[0;34m.\u001b[0m\u001b[0mIteratorV2\u001b[0m\u001b[0;34m(\u001b[0m\u001b[0mself\u001b[0m\u001b[0;34m)\u001b[0m\u001b[0;34m\u001b[0m\u001b[0;34m\u001b[0m\u001b[0m\n\u001b[0m\u001b[1;32m    333\u001b[0m     \u001b[0;32melse\u001b[0m\u001b[0;34m:\u001b[0m\u001b[0;34m\u001b[0m\u001b[0;34m\u001b[0m\u001b[0m\n\u001b[1;32m    334\u001b[0m       raise RuntimeError(\"__iter__() is only supported inside of tf.function \"\n",
      "\u001b[0;32m~/opt/miniconda3/envs/csci5922/lib/python3.7/site-packages/tensorflow_core/python/data/ops/iterator_ops.py\u001b[0m in \u001b[0;36m__init__\u001b[0;34m(self, dataset, components, element_spec)\u001b[0m\n\u001b[1;32m    591\u001b[0m           context.context().device_spec.device_type != \"CPU\"):\n\u001b[1;32m    592\u001b[0m         \u001b[0;32mwith\u001b[0m \u001b[0mops\u001b[0m\u001b[0;34m.\u001b[0m\u001b[0mdevice\u001b[0m\u001b[0;34m(\u001b[0m\u001b[0;34m\"/cpu:0\"\u001b[0m\u001b[0;34m)\u001b[0m\u001b[0;34m:\u001b[0m\u001b[0;34m\u001b[0m\u001b[0;34m\u001b[0m\u001b[0m\n\u001b[0;32m--> 593\u001b[0;31m           \u001b[0mself\u001b[0m\u001b[0;34m.\u001b[0m\u001b[0m_create_iterator\u001b[0m\u001b[0;34m(\u001b[0m\u001b[0mdataset\u001b[0m\u001b[0;34m)\u001b[0m\u001b[0;34m\u001b[0m\u001b[0;34m\u001b[0m\u001b[0m\n\u001b[0m\u001b[1;32m    594\u001b[0m       \u001b[0;32melse\u001b[0m\u001b[0;34m:\u001b[0m\u001b[0;34m\u001b[0m\u001b[0;34m\u001b[0m\u001b[0m\n\u001b[1;32m    595\u001b[0m         \u001b[0mself\u001b[0m\u001b[0;34m.\u001b[0m\u001b[0m_create_iterator\u001b[0m\u001b[0;34m(\u001b[0m\u001b[0mdataset\u001b[0m\u001b[0;34m)\u001b[0m\u001b[0;34m\u001b[0m\u001b[0;34m\u001b[0m\u001b[0m\n",
      "\u001b[0;32m~/opt/miniconda3/envs/csci5922/lib/python3.7/site-packages/tensorflow_core/python/data/ops/iterator_ops.py\u001b[0m in \u001b[0;36m_create_iterator\u001b[0;34m(self, dataset)\u001b[0m\n\u001b[1;32m    609\u001b[0m               \u001b[0moutput_types\u001b[0m\u001b[0;34m=\u001b[0m\u001b[0mself\u001b[0m\u001b[0;34m.\u001b[0m\u001b[0m_flat_output_types\u001b[0m\u001b[0;34m,\u001b[0m\u001b[0;34m\u001b[0m\u001b[0;34m\u001b[0m\u001b[0m\n\u001b[1;32m    610\u001b[0m               output_shapes=self._flat_output_shapes))\n\u001b[0;32m--> 611\u001b[0;31m       \u001b[0mgen_dataset_ops\u001b[0m\u001b[0;34m.\u001b[0m\u001b[0mmake_iterator\u001b[0m\u001b[0;34m(\u001b[0m\u001b[0mds_variant\u001b[0m\u001b[0;34m,\u001b[0m \u001b[0mself\u001b[0m\u001b[0;34m.\u001b[0m\u001b[0m_iterator_resource\u001b[0m\u001b[0;34m)\u001b[0m\u001b[0;34m\u001b[0m\u001b[0;34m\u001b[0m\u001b[0m\n\u001b[0m\u001b[1;32m    612\u001b[0m       \u001b[0;31m# Delete the resource when this object is deleted\u001b[0m\u001b[0;34m\u001b[0m\u001b[0;34m\u001b[0m\u001b[0;34m\u001b[0m\u001b[0m\n\u001b[1;32m    613\u001b[0m       self._resource_deleter = IteratorResourceDeleter(\n",
      "\u001b[0;32m~/opt/miniconda3/envs/csci5922/lib/python3.7/site-packages/tensorflow_core/python/ops/gen_dataset_ops.py\u001b[0m in \u001b[0;36mmake_iterator\u001b[0;34m(dataset, iterator, name)\u001b[0m\n\u001b[1;32m   2914\u001b[0m         \u001b[0m_ctx\u001b[0m\u001b[0;34m.\u001b[0m\u001b[0m_context_handle\u001b[0m\u001b[0;34m,\u001b[0m \u001b[0m_ctx\u001b[0m\u001b[0;34m.\u001b[0m\u001b[0m_thread_local_data\u001b[0m\u001b[0;34m.\u001b[0m\u001b[0mdevice_name\u001b[0m\u001b[0;34m,\u001b[0m\u001b[0;34m\u001b[0m\u001b[0;34m\u001b[0m\u001b[0m\n\u001b[1;32m   2915\u001b[0m         \u001b[0;34m\"MakeIterator\"\u001b[0m\u001b[0;34m,\u001b[0m \u001b[0mname\u001b[0m\u001b[0;34m,\u001b[0m \u001b[0m_ctx\u001b[0m\u001b[0;34m.\u001b[0m\u001b[0m_post_execution_callbacks\u001b[0m\u001b[0;34m,\u001b[0m \u001b[0mdataset\u001b[0m\u001b[0;34m,\u001b[0m\u001b[0;34m\u001b[0m\u001b[0;34m\u001b[0m\u001b[0m\n\u001b[0;32m-> 2916\u001b[0;31m         iterator)\n\u001b[0m\u001b[1;32m   2917\u001b[0m       \u001b[0;32mreturn\u001b[0m \u001b[0m_result\u001b[0m\u001b[0;34m\u001b[0m\u001b[0;34m\u001b[0m\u001b[0m\n\u001b[1;32m   2918\u001b[0m     \u001b[0;32mexcept\u001b[0m \u001b[0m_core\u001b[0m\u001b[0;34m.\u001b[0m\u001b[0m_FallbackException\u001b[0m\u001b[0;34m:\u001b[0m\u001b[0;34m\u001b[0m\u001b[0;34m\u001b[0m\u001b[0m\n",
      "\u001b[0;31mKeyboardInterrupt\u001b[0m: "
     ]
    }
   ],
   "source": [
    "Hs = [5,25]\n",
    "Ns = [5] # switch to [5,10,20,40] when things are working\n",
    "REPS = 10\n",
    "SAMPLES = 10000\n",
    "# breakpoint()\n",
    "\n",
    "test_accs = np.zeros([len(Hs),len(Ns),REPS])\n",
    "for Nindex, N in enumerate(Ns):\n",
    "    for rep in range(REPS):\n",
    "        # (data is reusable across changes to the number of hidden units)\n",
    "        # generate a random training set of 10000 examples of length N\n",
    "        x_train = gen_binary_sequences(SAMPLES, N)\n",
    "        y_train = calc_parity(x_train)\n",
    "\n",
    "        # generate a random test set of 10000 examples of length N\n",
    "        x_test = gen_binary_sequences(SAMPLES, N)\n",
    "        y_test = calc_parity(x_train)\n",
    "\n",
    "        for Hindex, H in enumerate(Hs):\n",
    "            print(f\"starting N={N}, H={H}, rep {rep}/{REPS}\")\n",
    "            # build model\n",
    "            model = build_model(N,H)\n",
    "            # train model\n",
    "            train_model(model, x_train, y_train, x_test, y_test)\n",
    "            # test model (extracting test accuracy as test_acc)\n",
    "            test_acc = evaluate( x=x_test, \n",
    "                      y=y_test, \n",
    "                      batch_size=BATCH, \n",
    "                      verbose=1, \n",
    "                      callbacks=[check_accuracy] )[1]\n",
    "\n",
    "            test_accs[Hindex,Nindex,rep] = test_acc"
   ]
  },
  {
   "cell_type": "markdown",
   "metadata": {
    "colab_type": "text",
    "id": "u4RbGJEbexGV"
   },
   "source": [
    "**Part 1.c**<br>\n",
    "Make the graph of mean % correct (and standard error) on the test set for the different values of H and N."
   ]
  },
  {
   "cell_type": "code",
   "execution_count": null,
   "metadata": {
    "colab": {},
    "colab_type": "code",
    "id": "_ew6HWSpkpeW"
   },
   "outputs": [],
   "source": [
    "plot_accuracies(test_accs,Ns,Hs)"
   ]
  },
  {
   "cell_type": "markdown",
   "metadata": {
    "colab_type": "text",
    "id": "Ku9WKNAafXnj"
   },
   "source": [
    "## Part 2\n",
    "Repeat the experiments of Part 1, but use LSTM neurons instead of tanh neurons in the recurrent layer.  Comment on your experiences."
   ]
  },
  {
   "cell_type": "markdown",
   "metadata": {
    "colab_type": "text",
    "id": "GU7uynCutpJ7"
   },
   "source": []
  }
 ],
 "metadata": {
  "accelerator": "GPU",
  "colab": {
   "collapsed_sections": [],
   "name": "2020_assignment_3.ipynb",
   "provenance": [],
   "toc_visible": true
  },
  "kernelspec": {
   "display_name": "Python 3",
   "language": "python",
   "name": "python3"
  },
  "language_info": {
   "codemirror_mode": {
    "name": "ipython",
    "version": 3
   },
   "file_extension": ".py",
   "mimetype": "text/x-python",
   "name": "python",
   "nbconvert_exporter": "python",
   "pygments_lexer": "ipython3",
   "version": "3.7.6"
  },
  "varInspector": {
   "cols": {
    "lenName": 16,
    "lenType": 16,
    "lenVar": 40
   },
   "kernels_config": {
    "python": {
     "delete_cmd_postfix": "",
     "delete_cmd_prefix": "del ",
     "library": "var_list.py",
     "varRefreshCmd": "print(var_dic_list())"
    },
    "r": {
     "delete_cmd_postfix": ") ",
     "delete_cmd_prefix": "rm(",
     "library": "var_list.r",
     "varRefreshCmd": "cat(var_dic_list()) "
    }
   },
   "types_to_exclude": [
    "module",
    "function",
    "builtin_function_or_method",
    "instance",
    "_Feature"
   ],
   "window_display": false
  }
 },
 "nbformat": 4,
 "nbformat_minor": 1
}
